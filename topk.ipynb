{
 "cells": [
  {
   "cell_type": "markdown",
   "metadata": {},
   "source": [
    "1、计算tdidfe矩阵\n",
    "2、选择每类行为最重要的前k个传感器，其他的传感器特征值为0，并和td、tdidf对比，两者采用同样的处理策略，说明该方法的有效性；同时找到最佳K\n",
    "3、之后加上时间特征，在进行分类，并比较多种分类方法\n"
   ]
  }
 ],
 "metadata": {
  "kernelspec": {
   "display_name": "Python 2",
   "language": "python",
   "name": "python2"
  },
  "language_info": {
   "codemirror_mode": {
    "name": "ipython",
    "version": 2
   },
   "file_extension": ".py",
   "mimetype": "text/x-python",
   "name": "python",
   "nbconvert_exporter": "python",
   "pygments_lexer": "ipython2",
   "version": "2.7.11"
  }
 },
 "nbformat": 4,
 "nbformat_minor": 0
}
