{
 "cells": [
  {
   "cell_type": "code",
   "execution_count": 1,
   "metadata": {
    "collapsed": false
   },
   "outputs": [],
   "source": [
    "import numpy as np\n",
    "from utils import ExtractActivities\n",
    "from StringIO import StringIO\n",
    "\n",
    "filename = \"./data/ann.txt\"\n",
    "activities = ExtractActivities(filename)\n",
    "file_bin_sensors = \"./data/bin_sensors.txt\"\n",
    "bin_sensors = np.loadtxt(file_bin_sensors,dtype=np.str)\n",
    "con_sensors = np.loadtxt(\"./data/continue_sensors.txt\",dtype=np.str)"
   ]
  },
  {
   "cell_type": "markdown",
   "metadata": {},
   "source": [
    "清理数据：只保留二值传感器"
   ]
  },
  {
   "cell_type": "code",
   "execution_count": 2,
   "metadata": {
    "collapsed": true
   },
   "outputs": [],
   "source": [
    "def onlybin(activity):\n",
    "    bin_activity = [activity[0]]\n",
    "    for i in range(1,len(activity)):\n",
    "        if len(activity[i]) == 4 and activity[i][2] in bin_sensors:\n",
    "            bin_activity.append(activity[i])\n",
    "    return bin_activity\n",
    "        "
   ]
  },
  {
   "cell_type": "markdown",
   "metadata": {},
   "source": [
    "剔除其他类型传感器，获取只含有二值传感器的行为序列"
   ]
  },
  {
   "cell_type": "code",
   "execution_count": 3,
   "metadata": {
    "collapsed": false
   },
   "outputs": [
    {
     "name": "stdout",
     "output_type": "stream",
     "text": [
      "['Sleep', ['2011-06-15', '02:13:20.812509', 'M007', 'ON'], ['2011-06-15', '02:13:21.919635', 'M007', 'OFF'], ['2011-06-15', '05:40:14.111389', 'M021', 'ON']]\n",
      "(2655L,)\n"
     ]
    }
   ],
   "source": [
    "\"\"\"\n",
    "刚开始只测试前20个行为序列，数据量小，计算快\n",
    "\"\"\"\n",
    "\n",
    "activities = ExtractActivities(filename)\n",
    "# print onlybin(activities[0])\n",
    "bin_activities = []\n",
    "# for activity in activities[0:20]:\n",
    "for activity in activities:\n",
    "    bin_activities.append(onlybin(activity))\n",
    "print bin_activities[0]\n",
    "bin_activities = np.array(bin_activities)\n",
    "activity_labels = [activity[0] for activity in bin_activities]\n",
    "print bin_activities.shape"
   ]
  },
  {
   "cell_type": "markdown",
   "metadata": {
    "collapsed": true
   },
   "source": [
    "计算TF（SF），传感器在当前活动中出现的频率\n",
    "\n",
    "pandas.dataframe\n",
    "\n",
    "1、计算每个行为序列中激发每种传感器的次数\n",
    "2、通过次数计算频率\n",
    "3、计算TF\n"
   ]
  },
  {
   "cell_type": "code",
   "execution_count": 6,
   "metadata": {
    "collapsed": false,
    "scrolled": false
   },
   "outputs": [
    {
     "name": "stdout",
     "output_type": "stream",
     "text": [
      "(2655L, 37L)\n"
     ]
    }
   ],
   "source": [
    "import pandas as pd\n",
    "# print bin_sensors\n",
    "df_activity_sensor = pd.DataFrame(index=np.arange(bin_activities.shape[0]),columns=bin_sensors)\n",
    "activity_sensor_times = np.array([[0 for x in range(len(bin_sensors))] \n",
    "                                  for i in range(len(bin_activities))],dtype=np.float16)\n",
    "\n",
    "for i in range(0,len(bin_activities)):\n",
    "    current_act = bin_activities[i]\n",
    "    for j in range(1,len(current_act)):\n",
    "        col_index = list(bin_sensors).index(current_act[j][2])\n",
    "        activity_sensor_times[i,col_index] += 1\n",
    "total_times = activity_sensor_times.sum(axis=1)\n",
    "tf = activity_sensor_times / total_times[:,np.newaxis]\n",
    "print tf.shape"
   ]
  },
  {
   "cell_type": "markdown",
   "metadata": {},
   "source": [
    "计算DF（AF）\n",
    "1、计算出现该传感器的活动数\n",
    "2、计算频数\n",
    "\n",
    "\n",
    "\n",
    "\n"
   ]
  },
  {
   "cell_type": "code",
   "execution_count": 8,
   "metadata": {
    "collapsed": false
   },
   "outputs": [
    {
     "name": "stdout",
     "output_type": "stream",
     "text": [
      "(2655L,)\n"
     ]
    }
   ],
   "source": [
    "ac_one = np.zeros((len(bin_activities),len(bin_sensors)))\n",
    "for i in range(ac_one.shape[0]):\n",
    "    for j in range(ac_one.shape[1]):\n",
    "        if activity_sensor_times[i,j] > 0:\n",
    "            ac_one[i,j] = 1\n",
    "is_has_sensor = ac_one.sum(axis=1)  \n",
    "# 文档频率\n",
    "df = float(ac_one.shape[0])/is_has_sensor\n",
    "idf = np.log((df+0.01))\n",
    "print idf.shape\n",
    "\n",
    "\n"
   ]
  },
  {
   "cell_type": "markdown",
   "metadata": {},
   "source": [
    "计算tf-idf"
   ]
  },
  {
   "cell_type": "code",
   "execution_count": 9,
   "metadata": {
    "collapsed": false
   },
   "outputs": [
    {
     "data": {
      "text/html": [
       "<div>\n",
       "<table border=\"1\" class=\"dataframe\">\n",
       "  <thead>\n",
       "    <tr style=\"text-align: right;\">\n",
       "      <th></th>\n",
       "      <th>D002</th>\n",
       "      <th>D003</th>\n",
       "      <th>D004</th>\n",
       "      <th>D005</th>\n",
       "      <th>D006</th>\n",
       "      <th>L001</th>\n",
       "      <th>L002</th>\n",
       "      <th>L003</th>\n",
       "      <th>L004</th>\n",
       "      <th>L005</th>\n",
       "      <th>...</th>\n",
       "      <th>M015</th>\n",
       "      <th>M016</th>\n",
       "      <th>M017</th>\n",
       "      <th>M018</th>\n",
       "      <th>M020</th>\n",
       "      <th>M021</th>\n",
       "      <th>MA019</th>\n",
       "      <th>MA022</th>\n",
       "      <th>MA023</th>\n",
       "      <th>MA024</th>\n",
       "    </tr>\n",
       "  </thead>\n",
       "  <tbody>\n",
       "    <tr>\n",
       "      <th>count</th>\n",
       "      <td>36.0</td>\n",
       "      <td>36.0</td>\n",
       "      <td>36.0</td>\n",
       "      <td>36.0</td>\n",
       "      <td>36.0</td>\n",
       "      <td>36.0</td>\n",
       "      <td>36.0</td>\n",
       "      <td>36.0</td>\n",
       "      <td>36.0</td>\n",
       "      <td>36.0</td>\n",
       "      <td>...</td>\n",
       "      <td>36.0</td>\n",
       "      <td>36.000000</td>\n",
       "      <td>36.0</td>\n",
       "      <td>36.0</td>\n",
       "      <td>36.000000</td>\n",
       "      <td>36.0</td>\n",
       "      <td>36.0</td>\n",
       "      <td>36.000000</td>\n",
       "      <td>36.000000</td>\n",
       "      <td>36.000000</td>\n",
       "    </tr>\n",
       "    <tr>\n",
       "      <th>mean</th>\n",
       "      <td>0.0</td>\n",
       "      <td>0.0</td>\n",
       "      <td>0.0</td>\n",
       "      <td>0.0</td>\n",
       "      <td>0.0</td>\n",
       "      <td>0.0</td>\n",
       "      <td>0.0</td>\n",
       "      <td>0.0</td>\n",
       "      <td>0.0</td>\n",
       "      <td>0.0</td>\n",
       "      <td>...</td>\n",
       "      <td>0.0</td>\n",
       "      <td>5.553879</td>\n",
       "      <td>0.0</td>\n",
       "      <td>0.0</td>\n",
       "      <td>0.004098</td>\n",
       "      <td>0.0</td>\n",
       "      <td>0.0</td>\n",
       "      <td>0.903501</td>\n",
       "      <td>0.086392</td>\n",
       "      <td>0.183703</td>\n",
       "    </tr>\n",
       "    <tr>\n",
       "      <th>std</th>\n",
       "      <td>0.0</td>\n",
       "      <td>0.0</td>\n",
       "      <td>0.0</td>\n",
       "      <td>0.0</td>\n",
       "      <td>0.0</td>\n",
       "      <td>0.0</td>\n",
       "      <td>0.0</td>\n",
       "      <td>0.0</td>\n",
       "      <td>0.0</td>\n",
       "      <td>0.0</td>\n",
       "      <td>...</td>\n",
       "      <td>0.0</td>\n",
       "      <td>1.633731</td>\n",
       "      <td>0.0</td>\n",
       "      <td>0.0</td>\n",
       "      <td>0.024591</td>\n",
       "      <td>0.0</td>\n",
       "      <td>0.0</td>\n",
       "      <td>0.519608</td>\n",
       "      <td>0.223123</td>\n",
       "      <td>0.772243</td>\n",
       "    </tr>\n",
       "    <tr>\n",
       "      <th>min</th>\n",
       "      <td>0.0</td>\n",
       "      <td>0.0</td>\n",
       "      <td>0.0</td>\n",
       "      <td>0.0</td>\n",
       "      <td>0.0</td>\n",
       "      <td>0.0</td>\n",
       "      <td>0.0</td>\n",
       "      <td>0.0</td>\n",
       "      <td>0.0</td>\n",
       "      <td>0.0</td>\n",
       "      <td>...</td>\n",
       "      <td>0.0</td>\n",
       "      <td>0.000000</td>\n",
       "      <td>0.0</td>\n",
       "      <td>0.0</td>\n",
       "      <td>0.000000</td>\n",
       "      <td>0.0</td>\n",
       "      <td>0.0</td>\n",
       "      <td>0.000000</td>\n",
       "      <td>0.000000</td>\n",
       "      <td>0.000000</td>\n",
       "    </tr>\n",
       "    <tr>\n",
       "      <th>25%</th>\n",
       "      <td>0.0</td>\n",
       "      <td>0.0</td>\n",
       "      <td>0.0</td>\n",
       "      <td>0.0</td>\n",
       "      <td>0.0</td>\n",
       "      <td>0.0</td>\n",
       "      <td>0.0</td>\n",
       "      <td>0.0</td>\n",
       "      <td>0.0</td>\n",
       "      <td>0.0</td>\n",
       "      <td>...</td>\n",
       "      <td>0.0</td>\n",
       "      <td>5.522875</td>\n",
       "      <td>0.0</td>\n",
       "      <td>0.0</td>\n",
       "      <td>0.000000</td>\n",
       "      <td>0.0</td>\n",
       "      <td>0.0</td>\n",
       "      <td>0.601303</td>\n",
       "      <td>0.000000</td>\n",
       "      <td>0.000000</td>\n",
       "    </tr>\n",
       "    <tr>\n",
       "      <th>50%</th>\n",
       "      <td>0.0</td>\n",
       "      <td>0.0</td>\n",
       "      <td>0.0</td>\n",
       "      <td>0.0</td>\n",
       "      <td>0.0</td>\n",
       "      <td>0.0</td>\n",
       "      <td>0.0</td>\n",
       "      <td>0.0</td>\n",
       "      <td>0.0</td>\n",
       "      <td>0.0</td>\n",
       "      <td>...</td>\n",
       "      <td>0.0</td>\n",
       "      <td>5.983783</td>\n",
       "      <td>0.0</td>\n",
       "      <td>0.0</td>\n",
       "      <td>0.000000</td>\n",
       "      <td>0.0</td>\n",
       "      <td>0.0</td>\n",
       "      <td>0.885977</td>\n",
       "      <td>0.000000</td>\n",
       "      <td>0.000000</td>\n",
       "    </tr>\n",
       "    <tr>\n",
       "      <th>75%</th>\n",
       "      <td>0.0</td>\n",
       "      <td>0.0</td>\n",
       "      <td>0.0</td>\n",
       "      <td>0.0</td>\n",
       "      <td>0.0</td>\n",
       "      <td>0.0</td>\n",
       "      <td>0.0</td>\n",
       "      <td>0.0</td>\n",
       "      <td>0.0</td>\n",
       "      <td>0.0</td>\n",
       "      <td>...</td>\n",
       "      <td>0.0</td>\n",
       "      <td>6.406294</td>\n",
       "      <td>0.0</td>\n",
       "      <td>0.0</td>\n",
       "      <td>0.000000</td>\n",
       "      <td>0.0</td>\n",
       "      <td>0.0</td>\n",
       "      <td>1.198217</td>\n",
       "      <td>0.000000</td>\n",
       "      <td>0.000000</td>\n",
       "    </tr>\n",
       "    <tr>\n",
       "      <th>max</th>\n",
       "      <td>0.0</td>\n",
       "      <td>0.0</td>\n",
       "      <td>0.0</td>\n",
       "      <td>0.0</td>\n",
       "      <td>0.0</td>\n",
       "      <td>0.0</td>\n",
       "      <td>0.0</td>\n",
       "      <td>0.0</td>\n",
       "      <td>0.0</td>\n",
       "      <td>0.0</td>\n",
       "      <td>...</td>\n",
       "      <td>0.0</td>\n",
       "      <td>7.884204</td>\n",
       "      <td>0.0</td>\n",
       "      <td>0.0</td>\n",
       "      <td>0.147545</td>\n",
       "      <td>0.0</td>\n",
       "      <td>0.0</td>\n",
       "      <td>2.431547</td>\n",
       "      <td>0.999436</td>\n",
       "      <td>3.637982</td>\n",
       "    </tr>\n",
       "  </tbody>\n",
       "</table>\n",
       "<p>8 rows × 37 columns</p>\n",
       "</div>"
      ],
      "text/plain": [
       "       D002  D003  D004  D005  D006  L001  L002  L003  L004  L005    ...      \\\n",
       "count  36.0  36.0  36.0  36.0  36.0  36.0  36.0  36.0  36.0  36.0    ...       \n",
       "mean    0.0   0.0   0.0   0.0   0.0   0.0   0.0   0.0   0.0   0.0    ...       \n",
       "std     0.0   0.0   0.0   0.0   0.0   0.0   0.0   0.0   0.0   0.0    ...       \n",
       "min     0.0   0.0   0.0   0.0   0.0   0.0   0.0   0.0   0.0   0.0    ...       \n",
       "25%     0.0   0.0   0.0   0.0   0.0   0.0   0.0   0.0   0.0   0.0    ...       \n",
       "50%     0.0   0.0   0.0   0.0   0.0   0.0   0.0   0.0   0.0   0.0    ...       \n",
       "75%     0.0   0.0   0.0   0.0   0.0   0.0   0.0   0.0   0.0   0.0    ...       \n",
       "max     0.0   0.0   0.0   0.0   0.0   0.0   0.0   0.0   0.0   0.0    ...       \n",
       "\n",
       "       M015       M016  M017  M018       M020  M021  MA019      MA022  \\\n",
       "count  36.0  36.000000  36.0  36.0  36.000000  36.0   36.0  36.000000   \n",
       "mean    0.0   5.553879   0.0   0.0   0.004098   0.0    0.0   0.903501   \n",
       "std     0.0   1.633731   0.0   0.0   0.024591   0.0    0.0   0.519608   \n",
       "min     0.0   0.000000   0.0   0.0   0.000000   0.0    0.0   0.000000   \n",
       "25%     0.0   5.522875   0.0   0.0   0.000000   0.0    0.0   0.601303   \n",
       "50%     0.0   5.983783   0.0   0.0   0.000000   0.0    0.0   0.885977   \n",
       "75%     0.0   6.406294   0.0   0.0   0.000000   0.0    0.0   1.198217   \n",
       "max     0.0   7.884204   0.0   0.0   0.147545   0.0    0.0   2.431547   \n",
       "\n",
       "           MA023      MA024  \n",
       "count  36.000000  36.000000  \n",
       "mean    0.086392   0.183703  \n",
       "std     0.223123   0.772243  \n",
       "min     0.000000   0.000000  \n",
       "25%     0.000000   0.000000  \n",
       "50%     0.000000   0.000000  \n",
       "75%     0.000000   0.000000  \n",
       "max     0.999436   3.637982  \n",
       "\n",
       "[8 rows x 37 columns]"
      ]
     },
     "execution_count": 9,
     "metadata": {},
     "output_type": "execute_result"
    }
   ],
   "source": [
    "sensor_weight = tf * idf[:,np.newaxis]\n",
    "\n",
    "df_sensor_weights = pd.DataFrame(sensor_weight,columns=bin_sensors,\n",
    "                                 index=range(len(bin_activities)))\n",
    "df_sensor_weights.insert(0,'label',activity_labels)\n",
    "df_sensor_weights[df_sensor_weights['label']=='Eat'].describe()"
   ]
  },
  {
   "cell_type": "markdown",
   "metadata": {},
   "source": [
    "计算每种传感器对每一类行为的重要程度"
   ]
  },
  {
   "cell_type": "code",
   "execution_count": null,
   "metadata": {
    "collapsed": true
   },
   "outputs": [],
   "source": []
  },
  {
   "cell_type": "markdown",
   "metadata": {},
   "source": [
    "分类"
   ]
  },
  {
   "cell_type": "code",
   "execution_count": 184,
   "metadata": {
    "collapsed": true
   },
   "outputs": [],
   "source": [
    "import numpy as np\n",
    "import matplotlib.pyplot as plt\n",
    "from sklearn.learning_curve import learning_curve\n",
    "\n",
    "%matplotlib inline\n",
    "# 用sklearn的learning_curve得到training_score和cv_score，使用matplotlib画出learning curve\n",
    "def plot_learning_curve(estimator, title, X, y, ylim=None, cv=None, n_jobs=1, \n",
    "                        train_sizes=np.linspace(.05, 1., 20), verbose=0, plot=True):\n",
    "    \"\"\"\n",
    "    画出data在某模型上的learning curve.\n",
    "    参数解释\n",
    "    ----------\n",
    "    estimator : 你用的分类器。\n",
    "    title : 表格的标题。\n",
    "    X : 输入的feature，numpy类型\n",
    "    y : 输入的target vector\n",
    "    ylim : tuple格式的(ymin, ymax), 设定图像中纵坐标的最低点和最高点\n",
    "    cv : 做cross-validation的时候，数据分成的份数，其中一份作为cv集，其余n-1份作为training(默认为3份)\n",
    "    n_jobs : 并行的的任务数(默认1)\n",
    "    \"\"\"\n",
    "    train_sizes, train_scores, test_scores = learning_curve(\n",
    "        estimator, X, y, cv=cv, n_jobs=n_jobs, train_sizes=train_sizes, verbose=verbose)\n",
    "    \n",
    "    train_scores_mean = np.mean(train_scores, axis=1)\n",
    "    train_scores_std = np.std(train_scores, axis=1)\n",
    "    test_scores_mean = np.mean(test_scores, axis=1)\n",
    "    test_scores_std = np.std(test_scores, axis=1)\n",
    "    \n",
    "    if plot:\n",
    "        plt.figure()\n",
    "        plt.title(title)\n",
    "        if ylim is not None:\n",
    "            plt.ylim(*ylim)\n",
    "        plt.xlabel(\"training num\")\n",
    "        plt.ylabel(\"score\")\n",
    "        plt.gca().invert_yaxis()\n",
    "        plt.grid()\n",
    "    \n",
    "        plt.fill_between(train_sizes, train_scores_mean - train_scores_std, train_scores_mean + train_scores_std, \n",
    "                         alpha=0.1, color=\"b\")\n",
    "        plt.fill_between(train_sizes, test_scores_mean - test_scores_std, test_scores_mean + test_scores_std, \n",
    "                         alpha=0.1, color=\"r\")\n",
    "        plt.plot(train_sizes, train_scores_mean, 'o-', color=\"b\", label=\"score on train\")\n",
    "        plt.plot(train_sizes, test_scores_mean, 'o-', color=\"r\", label=\"score on cv\")\n",
    "    \n",
    "        plt.legend(loc=\"best\")\n",
    "        \n",
    "        plt.draw()\n",
    "        plt.gca().invert_yaxis()\n",
    "        plt.show()\n",
    "    \n",
    "    midpoint = ((train_scores_mean[-1] + train_scores_std[-1]) + (test_scores_mean[-1] - test_scores_std[-1])) / 2\n",
    "    diff = (train_scores_mean[-1] + train_scores_std[-1]) - (test_scores_mean[-1] - test_scores_std[-1])\n",
    "    return midpoint, diff\n"
   ]
  },
  {
   "cell_type": "markdown",
   "metadata": {},
   "source": [
    "调参方法"
   ]
  },
  {
   "cell_type": "code",
   "execution_count": 200,
   "metadata": {
    "collapsed": false
   },
   "outputs": [],
   "source": [
    "from __future__ import print_function\n",
    "\n",
    "from sklearn import datasets\n",
    "from sklearn.cross_validation import train_test_split\n",
    "from sklearn.grid_search import GridSearchCV\n",
    "from sklearn.metrics import classification_report\n",
    "from sklearn.svm import SVC\n",
    "\n",
    "\n",
    "\n",
    "def findParameters(X,Y):\n",
    "    X_train, X_test, y_train, y_test = train_test_split(\n",
    "        X, Y, test_size=0.5, random_state=0)\n",
    "\n",
    "    # Set the parameters by cross-validation\n",
    "    tuned_parameters = [{'kernel': ['rbf'], 'gamma': [1e-3, 1e-4],\n",
    "                         'C': [1, 10, 100, 1000]},\n",
    "                        {'kernel': ['linear'], 'C': [1, 10, 100, 1000]}]\n",
    "\n",
    "    # scores = ['precision_macro']\n",
    "\n",
    "    # clf = GridSearchCV(SVC(C=1), tuned_parameters, cv=5)\n",
    "    # clf.fit(X_train, y_train)\n",
    "\n",
    "    # for score in scores:\n",
    "    print(\"# Tuning hyper-parameters for %s\" % score)\n",
    "    print()\n",
    "\n",
    "    clf = GridSearchCV(SVC(C=1), tuned_parameters, cv=5)\n",
    "    clf.fit(X_train, y_train)\n",
    "\n",
    "    print(\"Best parameters set found on development set:\")\n",
    "    print()\n",
    "    print(clf.best_params_)\n",
    "    print()\n",
    "    print(\"Grid scores on development set:\")\n",
    "    print()\n",
    "    for params, mean_score, scores in clf.grid_scores_:\n",
    "        print(\"%0.3f (+/-%0.03f) for %r\"\n",
    "                  % (mean_score, scores.std() * 2, params))\n",
    "    print()\n",
    "\n",
    "    print(\"Detailed classification report:\")\n",
    "    print()\n",
    "    print(\"The model is trained on the full development set.\")\n",
    "    print(\"The scores are computed on the full evaluation set.\")\n",
    "    print()\n",
    "    y_true, y_pred = y_test, clf.predict(X_test)\n",
    "    print(classification_report(y_true, y_pred))\n",
    "    print()\n"
   ]
  },
  {
   "cell_type": "markdown",
   "metadata": {},
   "source": [
    "tf-idf 调参"
   ]
  },
  {
   "cell_type": "code",
   "execution_count": null,
   "metadata": {
    "collapsed": true
   },
   "outputs": [],
   "source": [
    "X = sensor_weight\n",
    "Y = activity_labels   \n",
    "findParameters(X,Y)"
   ]
  },
  {
   "cell_type": "markdown",
   "metadata": {},
   "source": [
    "tf-idf 分类性能"
   ]
  },
  {
   "cell_type": "code",
   "execution_count": 196,
   "metadata": {
    "collapsed": false
   },
   "outputs": [
    {
     "data": {
      "image/png": "[encoded data removed]",
      "text/plain": [
       "<matplotlib.figure.Figure at 0xd285da0>"
      ]
     },
     "metadata": {},
     "output_type": "display_data"
    },
    {
     "data": {
      "text/plain": [
       "(0.56140636346720529, 0.10652915099631566)"
      ]
     },
     "execution_count": 196,
     "metadata": {},
     "output_type": "execute_result"
    }
   ],
   "source": [
    "clf = SVC(kernel='linear',C=1000)\n",
    "plot_learning_curve(clf, \"learn curve\", X, Y)"
   ]
  },
  {
   "cell_type": "markdown",
   "metadata": {},
   "source": [
    "是否出现调参"
   ]
  },
  {
   "cell_type": "code",
   "execution_count": 199,
   "metadata": {
    "collapsed": false
   },
   "outputs": [
    {
     "name": "stdout",
     "output_type": "stream",
     "text": [
      "# Tuning hyper-parameters for r2\n",
      "\n",
      "Best parameters set found on development set:\n",
      "\n",
      "{'kernel': 'linear', 'C': 1}\n",
      "\n",
      "Grid scores on development set:\n",
      "\n",
      "0.179 (+/-0.011) for {'kernel': 'rbf', 'C': 1, 'gamma': 0.001}\n",
      "0.179 (+/-0.011) for {'kernel': 'rbf', 'C': 1, 'gamma': 0.0001}\n",
      "0.483 (+/-0.021) for {'kernel': 'rbf', 'C': 10, 'gamma': 0.001}\n",
      "0.179 (+/-0.011) for {'kernel': 'rbf', 'C': 10, 'gamma': 0.0001}\n",
      "0.552 (+/-0.018) for {'kernel': 'rbf', 'C': 100, 'gamma': 0.001}\n",
      "0.485 (+/-0.019) for {'kernel': 'rbf', 'C': 100, 'gamma': 0.0001}\n",
      "0.558 (+/-0.034) for {'kernel': 'rbf', 'C': 1000, 'gamma': 0.001}\n",
      "0.551 (+/-0.024) for {'kernel': 'rbf', 'C': 1000, 'gamma': 0.0001}\n",
      "0.561 (+/-0.026) for {'kernel': 'linear', 'C': 1}\n",
      "0.553 (+/-0.030) for {'kernel': 'linear', 'C': 10}\n",
      "0.555 (+/-0.035) for {'kernel': 'linear', 'C': 100}\n",
      "0.554 (+/-0.030) for {'kernel': 'linear', 'C': 1000}\n",
      "\n",
      "Detailed classification report:\n",
      "\n",
      "The model is trained on the full development set.\n",
      "The scores are computed on the full evaluation set.\n",
      "\n",
      "             precision    recall  f1-score   support\n",
      "\n",
      "      Bathe       0.00      0.00      0.00        18\n",
      "Bed_Toilet_Transition       0.00      0.00      0.00        23\n",
      "       Cook       0.00      0.00      0.00        19\n",
      "Cook_Breakfast       0.19      0.59      0.29        17\n",
      "Cook_Dinner       0.22      0.62      0.32        39\n",
      " Cook_Lunch       0.12      0.03      0.05        35\n",
      "      Dress       0.84      0.70      0.76        60\n",
      "        Eat       0.15      0.13      0.14        15\n",
      "Eat_Breakfast       0.16      0.79      0.26        24\n",
      " Eat_Dinner       0.00      0.00      0.00        21\n",
      "  Eat_Lunch       0.00      0.00      0.00        32\n",
      " Enter_Home       0.82      0.68      0.74        68\n",
      "Entertain_Guests       0.75      0.38      0.50         8\n",
      "Evening_Meds       0.00      0.00      0.00         9\n",
      "      Groom       0.00      0.00      0.00        34\n",
      " Leave_Home       0.83      0.90      0.86       117\n",
      "Morning_Meds       0.06      0.07      0.07        14\n",
      "Personal_Hygiene       0.53      0.99      0.69       224\n",
      "      Phone       0.38      0.21      0.27        29\n",
      "       Read       0.56      0.55      0.55        44\n",
      "      Relax       0.00      0.00      0.00        11\n",
      "      Sleep       0.64      0.71      0.67        55\n",
      "Sleep_Out_Of_Bed       0.00      0.00      0.00         6\n",
      "Take_Medicine       0.12      0.09      0.10        33\n",
      "     Toilet       0.83      0.11      0.20        90\n",
      "Wash_Breakfast_Dishes       0.00      0.00      0.00        21\n",
      "Wash_Dinner_Dishes       0.00      0.00      0.00        15\n",
      "Wash_Dishes       0.00      0.00      0.00        18\n",
      "Wash_Lunch_Dishes       0.00      0.00      0.00        22\n",
      "   Watch_TV       0.49      0.79      0.60        57\n",
      "       Work       0.00      0.00      0.00         2\n",
      "Work_At_Table       0.00      0.00      0.00        19\n",
      "Work_On_Computer       0.87      0.66      0.75       129\n",
      "\n",
      "avg / total       0.48      0.52      0.46      1328\n",
      "\n",
      "\n"
     ]
    }
   ],
   "source": [
    "\n",
    "X = ac_one\n",
    "Y = activity_labels    \n",
    "findParameters(X,Y)"
   ]
  },
  {
   "cell_type": "code",
   "execution_count": 201,
   "metadata": {
    "collapsed": false
   },
   "outputs": [
    {
     "data": {
      "image/png": "[encoded data removed]",
      "text/plain": [
       "<matplotlib.figure.Figure at 0x9ffdac8>"
      ]
     },
     "metadata": {},
     "output_type": "display_data"
    },
    {
     "data": {
      "text/plain": [
       "(0.5360323511537245, 0.11280917362350684)"
      ]
     },
     "execution_count": 201,
     "metadata": {},
     "output_type": "execute_result"
    }
   ],
   "source": [
    "clf = SVC(kernel='linear',C=1)\n",
    "plot_learning_curve(clf, \"learn curve\", X, Y)"
   ]
  },
  {
   "cell_type": "markdown",
   "metadata": {},
   "source": [
    "# 改进tf-idf算法：增加信息熵"
   ]
  },
  {
   "cell_type": "code",
   "execution_count": 41,
   "metadata": {
    "collapsed": false,
    "scrolled": true
   },
   "outputs": [
    {
     "name": "stdout",
     "output_type": "stream",
     "text": [
      "106\n",
      "[  1021.     92.    952.    828.    662.  13928.    155.    424.    102.\n",
      "   3508.    563.  17440.    932.   6768.    925.    791.   1006.   1040.\n",
      "  15984.   6852.   1136.    181.   4976.  18304.  15248.]\n"
     ]
    },
    {
     "name": "stderr",
     "output_type": "stream",
     "text": [
      "C:\\Anaconda2\\lib\\site-packages\\ipykernel\\__main__.py:6: VisibleDeprecationWarning: boolean index did not match indexed array along dimension 0; dimension is 2655 but corresponding boolean dimension is 37\n"
     ]
    }
   ],
   "source": [
    "# activity_labels = np.array(activity_labels)\n",
    "# current_activity_index = (activity_labels == \"Sleep\")\n",
    "# current_activity_times = sum(current_activity_index)\n",
    "# print current_activity_times\n",
    "# # print current_activity_index.shape\n",
    "# current_activity_sensor_weight = sensor_weight[current_activity_index]\n",
    "# # 得到当前类中出现的所有传感器下标\n",
    "# index = current_activity_sensor_weight.sum(axis=0)>0\n",
    "\n",
    "# # 获取当前行为触发的所有传感器ID\n",
    "# current_activity_sensor = bin_sensors[index]\n",
    "# # print current_activity_sensor\n",
    "# # print len(activity_sensor)\n",
    "# current_activity_sensor_times = activity_sensor_times[:,index]\n",
    "# print current_activity_sensor_times.sum(axis=0)\n"
   ]
  },
  {
   "cell_type": "code",
   "execution_count": 77,
   "metadata": {
    "collapsed": false
   },
   "outputs": [
    {
     "name": "stdout",
     "output_type": "stream",
     "text": [
      "['M001' 'M002' 'M003' 'M005' 'M006' 'M007' 'M008' 'M010' 'M011' 'M012'\n",
      " 'M014' 'M015' 'M016' 'M017' 'M018' 'M020' 'M021' 'MA019' 'MA022' 'MA023'\n",
      " 'MA024']\n",
      "[  0.   0.   0.   0.   0.  20.   0.   0.   0.   0.   0.   0.   0.   0.   0.\n",
      "   0.   0.   0.   0.   0.   0.]\n"
     ]
    }
   ],
   "source": [
    "activity_labels = np.array(activity_labels)\n",
    "current_activity_index = (activity_labels == \"Sleep\")\n",
    "# 该类行为的传感器次数矩阵，包含所有的传感器\n",
    "current_activity_sensor_times = activity_sensor_times[current_activity_index]\n",
    "\n",
    "# 该类行为出现的总次数\n",
    "current_activity_times = sum(current_activity_index)\n",
    "\n",
    "# 该类行为的传感器权重\n",
    "current_activity_sensor_weight = sensor_weight[current_activity_index]\n",
    "\n",
    "# 得到当前类中出现的所有传感器下标\n",
    "index = current_activity_sensor_weight.sum(axis=0)>0\n",
    "\n",
    "# 获取当前行为触发的所有传感器ID\n",
    "current_activity_actsensor = bin_sensors[index]\n",
    "print current_activity_actsensor\n",
    "# 该类行为触发的所有传感器次数，只包含触发的传感器\n",
    "current_activity_actsensor_times = current_activity_sensor_times[:,index]\n",
    "print current_activity_actsensor_times[3]\n",
    "\n",
    "sensor_entry_inner_class = \n",
    "\n"
   ]
  },
  {
   "cell_type": "code",
   "execution_count": null,
   "metadata": {
    "collapsed": true
   },
   "outputs": [],
   "source": []
  },
  {
   "cell_type": "code",
   "execution_count": null,
   "metadata": {
    "collapsed": true
   },
   "outputs": [],
   "source": []
  }
 ],
 "metadata": {
  "kernelspec": {
   "display_name": "Python 2",
   "language": "python",
   "name": "python2"
  },
  "language_info": {
   "codemirror_mode": {
    "name": "ipython",
    "version": 2
   },
   "file_extension": ".py",
   "mimetype": "text/x-python",
   "name": "python",
   "nbconvert_exporter": "python",
   "pygments_lexer": "ipython2",
   "version": "2.7.11"
  }
 },
 "nbformat": 4,
 "nbformat_minor": 0
}
