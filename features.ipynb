{
 "cells": [
  {
   "cell_type": "markdown",
   "metadata": {},
   "source": [
    "### 特征提取：\n",
    "1. 单个传感器特征\n",
    "2. 传感器对特征\n",
    "3. 时间传感器特征\n",
    "4. 时间特征"
   ]
  },
  {
   "cell_type": "code",
   "execution_count": 2,
   "metadata": {
    "collapsed": false
   },
   "outputs": [],
   "source": [
    "import pandas as pd\n",
    "import utils\n",
    "import numpy as np\n",
    "\n",
    "\n",
    "# sensorType = [\"D0\",\"L0\",\"LS\",\"M0\",\"MA\",\"T0\"]\n",
    "# 不考虑连续型传感器\n",
    "\n",
    "sensorType = [\"D0\",\"L0\",\"M0\",\"MA\"]\n",
    "def loadSensor(file):\n",
    "    sensors = []\n",
    "    with open(file,'r') as sf:\n",
    "        for line in sf:\n",
    "            sensors.append(line.strip())\n",
    "    return sensors\n",
    "\n",
    "#  加载传感器ID\n",
    "continueSensors = loadSensor(\"./data/continue_sensors.txt\")\n",
    "\n",
    "binarySensors = loadSensor(\"./data/bin_sensors.txt\")\n",
    "\n",
    "\n",
    "\n",
    "def dataframeActivity(activity):\n",
    "    \"\"\"\n",
    "    输入：一个完整的观测序列\n",
    "    输出：dataframe类型的数据结构\n",
    "    \n",
    "    \"\"\"\n",
    "    df_act = pd.DataFrame(activity[1:],columns=['date','time','sensor','value'])\n",
    "    \n",
    "    return df_act\n",
    "    \n",
    "    \n",
    "\n",
    "    "
   ]
  },
  {
   "cell_type": "markdown",
   "metadata": {},
   "source": [
    "#### 单个传感器类型特征 ：不考虑连续型传感器\n",
    "1. 每个传感器出现的次数\n",
    "2. 第一个出现的传感器\n",
    "3. 最后一个出现的传感器\n",
    "4. 共出现了几种传感器\n",
    "5. 每类传感器出现的次数[\"D0\",\"L0\",\"M0\",\"MA\"]"
   ]
  },
  {
   "cell_type": "code",
   "execution_count": 24,
   "metadata": {
    "collapsed": false
   },
   "outputs": [],
   "source": [
    "def onesensorFeatures(df_act):\n",
    "#     每种传感器出现的次数\n",
    "    sensors_num = np.zeros(len(binarySensors))\n",
    "    for sid in binarySensors:\n",
    "        count_sensor = df_act.sensor == sid\n",
    "        sensors_num[binarySensors.index(sid)] = count_sensor.sum()\n",
    "#     print \"sensors_num:\",sensors_num\n",
    "# 第一个传感器\n",
    "    i = 0 \n",
    "    while i < df_act.shape[0]:\n",
    "        start_sensor = df_act.iloc[i][2]\n",
    "        if start_sensor in binarySensors:\n",
    "            break\n",
    "        i += 1\n",
    "# 最后一个传感器\n",
    "    j = df_act.shape[0]\n",
    "    while j > 0:\n",
    "        finish_sensor = df_act.iloc[i][2]\n",
    "        if finish_sensor in binarySensors:\n",
    "            break\n",
    "        j -= 1    \n",
    "#     print \"start_sensor,finish_sensor:\",start_sensor,finish_sensor\n",
    "    ss = np.zeros(len(binarySensors))\n",
    "    fs = np.zeros(len(binarySensors))\n",
    "    ss[binarySensors.index(start_sensor)] = 1\n",
    "    fs[binarySensors.index(finish_sensor)] = 1\n",
    "    \n",
    "# 传感器种类数:二值传感器\n",
    "    sensors = set(df_act.sensor)\n",
    "    num_sensor_type = len(sensors.intersection(binarySensors))\n",
    "#     print \"num_sensor_type\",num_sensor_type\n",
    "    \n",
    "# 各类传感器出现的次数 sensorType = [\"D0\",\"L0\",\"M0\",\"MA\"]\n",
    "    cat_num = np.zeros(len(sensorType))\n",
    "    for i in range(df_act.sensor.shape[0]):\n",
    "        s = df_act.iloc[i][2]\n",
    "        if s in binarySensors:\n",
    "            cat_num[sensorType.index(s[0:2])] += 1\n",
    "    \n",
    "    sf = np.hstack((sensors_num,ss,fs,num_sensor_type,cat_num))\n",
    "    \n",
    "    return sf\n",
    "\n",
    "    \n",
    "    \n",
    "\n",
    "\n",
    "\n"
   ]
  },
  {
   "cell_type": "code",
   "execution_count": null,
   "metadata": {
    "collapsed": true
   },
   "outputs": [],
   "source": [
    "def sensorpairFeatures(df_act):\n",
    "    pass\n",
    "    \n",
    "\n"
   ]
  },
  {
   "cell_type": "markdown",
   "metadata": {},
   "source": [
    "#### 时间传感器特征：不同时间段是否出现\n",
    "\n",
    "1. 前三分之一时间段内出现传感器\n",
    "2. 中间三分之一时间段出现的传感器\n",
    "3. 最后三分之一时间段出现的传感器"
   ]
  },
  {
   "cell_type": "code",
   "execution_count": null,
   "metadata": {
    "collapsed": true
   },
   "outputs": [],
   "source": [
    "\n",
    "def sensorTimeFeatures(df_act):\n",
    "    pass"
   ]
  },
  {
   "cell_type": "markdown",
   "metadata": {},
   "source": [
    "### 时间类型的特征"
   ]
  },
  {
   "cell_type": "code",
   "execution_count": 4,
   "metadata": {
    "collapsed": false
   },
   "outputs": [],
   "source": [
    "\n",
    "def timeFeatures(df_act):\n",
    "    \"\"\"\n",
    "    返回时间相关特征\n",
    "    时间间隔（delta，分钟）、是否跨天（is_two_day）,是否是工作日？周六？周日？开始时间,结束时间（小时）\n",
    "    \"\"\"\n",
    "    from datetime import datetime,timedelta\n",
    "    ts = np.array(df_act.time)\n",
    "    ds = np.array(df_act.date)\n",
    "    \n",
    "    sy,sm,sd = ds[0].split(\"-\")\n",
    "    sh,sminutes = ts[0].split(\":\")[0:-1]\n",
    "    ss,sns = ts[0].split(\":\")[-1].split(\".\")\n",
    "    \n",
    "    ey,em,ed = ds[-1].split(\"-\")\n",
    "    eh,eminutes = ts[-1].split(\":\")[0:-1]\n",
    "    es,ens = ts[-1].split(\":\")[-1].split(\".\")\n",
    "    \n",
    "    starttime = datetime(int(sy),int(sm),int(sd),int(sh),int(sminutes),int(ss),int(sns))\n",
    "    endtime = datetime(int(ey),int(em),int(ed),int(eh),int(eminutes),int(es),int(ens))\n",
    "    \n",
    "    \n",
    "    delta = (endtime - starttime).total_seconds()\n",
    "    delta = int(delta)\n",
    "\n",
    "\n",
    "#     是否跨天\n",
    "    is_two_day = 0\n",
    "    if ds[0] != ds[-1]:\n",
    "        is_two_day = 1\n",
    "    \n",
    "#     是否是周六？周日？工作日？\n",
    "    day_of_week = pd.DatetimeIndex(df_act.date).dayofweek[-1] + 1\n",
    "    is_workingday = 1\n",
    "    is_sat = 0\n",
    "    is_sun = 0\n",
    "    if day_of_week == 6:\n",
    "        is_workingday = 0\n",
    "        is_sat = 1\n",
    "    if day_of_week == 7:\n",
    "        is_workingday = 0\n",
    "        is_sun = 1\n",
    "    \n",
    "#     开始时间\n",
    "    start_hour = int(sh)\n",
    "#     结束时间\n",
    "    end_hour = int(eh)\n",
    "\n",
    "    return np.array((delta,is_two_day,is_workingday,is_sat,is_sun,start_hour,end_hour)).flatten()"
   ]
  },
  {
   "cell_type": "code",
   "execution_count": 26,
   "metadata": {
    "collapsed": false
   },
   "outputs": [
    {
     "name": "stdout",
     "output_type": "stream",
     "text": [
      "[12331     0     1     0     0     2     5] [ 0.  0.  0.  0.  0.  0.  0.  0.  0.  0.  0.  0.  0.  0.  0.  0.  0.  0.\n",
      "  0.  2.  0.  0.  0.  0.  0.  0.  0.  0.  0.  0.  0.  0.  0.  0.  0.  0.\n",
      "  0.  0.  0.  0.  0.  0.  0.  0.  0.  0.  0.  0.  0.  0.  0.  0.  0.  0.\n",
      "  0.  0.  1.  0.  0.  0.  0.  0.  0.  0.  0.  0.  0.  0.  0.  0.  0.  0.\n",
      "  0.  0.  0.  0.  0.  0.  0.  0.  0.  0.  0.  0.  0.  0.  0.  0.  0.  0.\n",
      "  0.  0.  0.  1.  0.  0.  0.  0.  0.  0.  0.  0.  0.  0.  0.  0.  0.  0.\n",
      "  0.  0.  0.  1.  0.  0.  2.  0.]\n"
     ]
    }
   ],
   "source": [
    "filename = \"./data/ann.txt\"\n",
    "activities = utils.ExtractActivities(filename)\n",
    "\n",
    "tfs = []\n",
    "sfs = []\n",
    "spfs = []\n",
    "stfs = []\n",
    "\n",
    "df = dataframeActivity(activities[0])\n",
    "tf = timeFeatures(df)\n",
    "sf = onesensorFeatures(df)\n",
    "\n",
    "print tf,sf\n",
    "\n",
    "# for act in activities:\n",
    "#     df = dataframeActivity(act)\n",
    "#     tf = timeFeatures(df)\n",
    "#     tfs.append(tf)\n",
    "#     sf = onesensorFeatures(df)\n",
    "#     sfs.append(sf)\n",
    "# df_time_features = pd.DataFrame(tfs,columns=[\"length\",'istwoday',\"isworkingday\",\"issat\",\"issun\",\"starthour\",\"endhour\"])\n",
    "\n",
    "# print df_time_features.head\n",
    "# print sfs[0]\n",
    "\n"
   ]
  },
  {
   "cell_type": "code",
   "execution_count": null,
   "metadata": {
    "collapsed": true
   },
   "outputs": [],
   "source": []
  }
 ],
 "metadata": {
  "kernelspec": {
   "display_name": "Python 2",
   "language": "python",
   "name": "python2"
  },
  "language_info": {
   "codemirror_mode": {
    "name": "ipython",
    "version": 2
   },
   "file_extension": ".py",
   "mimetype": "text/x-python",
   "name": "python",
   "nbconvert_exporter": "python",
   "pygments_lexer": "ipython2",
   "version": "2.7.11"
  }
 },
 "nbformat": 4,
 "nbformat_minor": 0
}
