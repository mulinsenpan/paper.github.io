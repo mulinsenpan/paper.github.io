{
 "cells": [
  {
   "cell_type": "markdown",
   "metadata": {},
   "source": [
    "# 特征类型\n",
    "\n",
    "从特征类型上分：度量特征和标量特征（分类）\n",
    " * Identifiers starting with \"BA\" indicate sensor battery levels\n",
    " * Identifiers starting with \"D\" indicate magnetic door sensors\n",
    " * Identifiers starting with \"L\" and \"LL\" indicate light switches\n",
    " * Identifiers starting with \"LS\" indicate light sensors\n",
    " * Identifiers starting with \"M\" indicate infrared motion sensors\n",
    " * Identifiers starting with \"MA\" indicate wide-area infrared motion sensors\n",
    " * Identifiers starting with \"T\" indicate temperature sensors\n",
    "\n",
    "\n",
    "\n"
   ]
  },
  {
   "cell_type": "code",
   "execution_count": null,
   "metadata": {
    "collapsed": true
   },
   "outputs": [],
   "source": []
  }
 ],
 "metadata": {
  "kernelspec": {
   "display_name": "Python 2",
   "language": "python",
   "name": "python2"
  },
  "language_info": {
   "codemirror_mode": {
    "name": "ipython",
    "version": 2
   },
   "file_extension": ".py",
   "mimetype": "text/x-python",
   "name": "python",
   "nbconvert_exporter": "python",
   "pygments_lexer": "ipython2",
   "version": "2.7.11"
  }
 },
 "nbformat": 4,
 "nbformat_minor": 0
}
