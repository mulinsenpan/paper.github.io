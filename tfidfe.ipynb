{
 "cells": [
  {
   "cell_type": "code",
   "execution_count": 6,
   "metadata": {
    "collapsed": false
   },
   "outputs": [
    {
     "name": "stdout",
     "output_type": "stream",
     "text": [
      "end\n"
     ]
    }
   ],
   "source": [
    "import numpy as np\n",
    "from utils import ExtractActivities\n",
    "from StringIO import StringIO\n",
    "\n",
    "filename = \"./data/ann.txt\"\n",
    "activities = ExtractActivities(filename)\n",
    "file_bin_sensors = \"./data/bin_sensors.txt\"\n",
    "bin_sensors = np.loadtxt(file_bin_sensors,dtype=np.str)\n",
    "con_sensors = np.loadtxt(\"./data/continue_sensors.txt\",dtype=np.str)\n",
    "labels = np.loadtxt(\"./data/activities.txt\",dtype=np.str)\n",
    "print(\"end\")"
   ]
  },
  {
   "cell_type": "code",
   "execution_count": 7,
   "metadata": {
    "collapsed": false
   },
   "outputs": [
    {
     "name": "stdout",
     "output_type": "stream",
     "text": [
      "end\n"
     ]
    }
   ],
   "source": [
    "def onlybin(activity):\n",
    "    bin_activity = [activity[0]]\n",
    "    for i in range(1,len(activity)):\n",
    "        if len(activity[i]) == 4 and activity[i][2] in bin_sensors:\n",
    "            bin_activity.append(activity[i])\n",
    "    return bin_activity\n",
    "print(\"end\")"
   ]
  },
  {
   "cell_type": "code",
   "execution_count": 8,
   "metadata": {
    "collapsed": false
   },
   "outputs": [
    {
     "name": "stdout",
     "output_type": "stream",
     "text": [
      "['Sleep', ['2011-06-15', '02:13:20.812509', 'M007', 'ON'], ['2011-06-15', '02:13:21.919635', 'M007', 'OFF'], ['2011-06-15', '05:40:14.111389', 'M021', 'ON']]\n",
      "(2655L,)\n",
      "end\n"
     ]
    }
   ],
   "source": [
    "\"\"\"\n",
    "刚开始只测试前20个行为序列，数据量小，计算快\n",
    "\"\"\"\n",
    "\n",
    "activities = ExtractActivities(filename)\n",
    "# print onlybin(activities[0])\n",
    "bin_activities = []\n",
    "# for activity in activities[0:20]:\n",
    "for activity in activities:\n",
    "    bin_activities.append(onlybin(activity))\n",
    "print bin_activities[0]\n",
    "bin_activities = np.array(bin_activities)\n",
    "activity_labels = [activity[0] for activity in bin_activities]\n",
    "print bin_activities.shape\n",
    "print(\"end\")"
   ]
  },
  {
   "cell_type": "code",
   "execution_count": 9,
   "metadata": {
    "collapsed": false
   },
   "outputs": [
    {
     "name": "stdout",
     "output_type": "stream",
     "text": [
      "(2655L, 37L)\n",
      "end\n"
     ]
    }
   ],
   "source": [
    "import pandas as pd\n",
    "# print bin_sensors\n",
    "df_activity_sensor = pd.DataFrame(index=np.arange(bin_activities.shape[0]),columns=bin_sensors)\n",
    "activity_sensor_times = np.array([[0 for x in range(len(bin_sensors))] \n",
    "                                  for i in range(len(bin_activities))],dtype=np.float16)\n",
    "\n",
    "for i in range(0,len(bin_activities)):\n",
    "    current_act = bin_activities[i]\n",
    "    for j in range(1,len(current_act)):\n",
    "        col_index = list(bin_sensors).index(current_act[j][2])\n",
    "        activity_sensor_times[i,col_index] += 1\n",
    "total_times = activity_sensor_times.sum(axis=1)\n",
    "tf = activity_sensor_times / total_times[:,np.newaxis]\n",
    "print tf.shape\n",
    "print(\"end\")"
   ]
  },
  {
   "cell_type": "code",
   "execution_count": 10,
   "metadata": {
    "collapsed": false
   },
   "outputs": [
    {
     "name": "stdout",
     "output_type": "stream",
     "text": [
      "(2655L,)\n",
      "end\n"
     ]
    }
   ],
   "source": [
    "ac_one = np.zeros((len(bin_activities),len(bin_sensors)))\n",
    "for i in range(ac_one.shape[0]):\n",
    "    for j in range(ac_one.shape[1]):\n",
    "        if activity_sensor_times[i,j] > 0:\n",
    "            ac_one[i,j] = 1\n",
    "is_has_sensor = ac_one.sum(axis=1)  \n",
    "# 文档频率\n",
    "df = float(ac_one.shape[0])/is_has_sensor\n",
    "idf = np.log((df+0.01))\n",
    "print idf.shape\n",
    "\n",
    "print(\"end\")"
   ]
  },
  {
   "cell_type": "code",
   "execution_count": 11,
   "metadata": {
    "collapsed": false
   },
   "outputs": [
    {
     "name": "stdout",
     "output_type": "stream",
     "text": [
      "end\n"
     ]
    }
   ],
   "source": [
    "sensor_weight = tf * idf[:,np.newaxis]\n",
    "\n",
    "df_sensor_weights = pd.DataFrame(sensor_weight,columns=bin_sensors,\n",
    "                                 index=range(len(bin_activities)))\n",
    "df_sensor_weights.insert(0,'label',activity_labels)\n",
    "df_sensor_weights[df_sensor_weights['label']=='Sleep'].describe()\n",
    "print(\"end\")"
   ]
  },
  {
   "cell_type": "code",
   "execution_count": 12,
   "metadata": {
    "collapsed": false
   },
   "outputs": [
    {
     "name": "stdout",
     "output_type": "stream",
     "text": [
      "end\n"
     ]
    }
   ],
   "source": [
    "import numpy as np\n",
    "import matplotlib.pyplot as plt\n",
    "from sklearn.learning_curve import learning_curve\n",
    "\n",
    "%matplotlib inline\n",
    "# 用sklearn的learning_curve得到training_score和cv_score，使用matplotlib画出learning curve\n",
    "def plot_learning_curve(estimator, title, X, y, ylim=None, cv=None, n_jobs=1, \n",
    "                        train_sizes=np.linspace(.05, 1., 20), verbose=0, plot=True):\n",
    "    \"\"\"\n",
    "    画出data在某模型上的learning curve.\n",
    "    参数解释\n",
    "    ----------\n",
    "    estimator : 你用的分类器。\n",
    "    title : 表格的标题。\n",
    "    X : 输入的feature，numpy类型\n",
    "    y : 输入的target vector\n",
    "    ylim : tuple格式的(ymin, ymax), 设定图像中纵坐标的最低点和最高点\n",
    "    cv : 做cross-validation的时候，数据分成的份数，其中一份作为cv集，其余n-1份作为training(默认为3份)\n",
    "    n_jobs : 并行的的任务数(默认1)\n",
    "    \"\"\"\n",
    "    print(\"begin training\")\n",
    "    train_sizes, train_scores, test_scores = learning_curve(\n",
    "        estimator, X, y, cv=cv, n_jobs=n_jobs, train_sizes=train_sizes, verbose=verbose)\n",
    "    \n",
    "    train_scores_mean = np.mean(train_scores, axis=1)\n",
    "    train_scores_std = np.std(train_scores, axis=1)\n",
    "    test_scores_mean = np.mean(test_scores, axis=1)\n",
    "    test_scores_std = np.std(test_scores, axis=1)\n",
    "    \n",
    "    if plot:\n",
    "        plt.figure()\n",
    "        plt.title(title)\n",
    "        if ylim is not None:\n",
    "            plt.ylim(*ylim)\n",
    "        plt.xlabel(\"training num\")\n",
    "        plt.ylabel(\"score\")\n",
    "        plt.gca().invert_yaxis()\n",
    "        plt.grid()\n",
    "    \n",
    "        plt.fill_between(train_sizes, train_scores_mean - train_scores_std, train_scores_mean + train_scores_std, \n",
    "                         alpha=0.1, color=\"b\")\n",
    "        plt.fill_between(train_sizes, test_scores_mean - test_scores_std, test_scores_mean + test_scores_std, \n",
    "                         alpha=0.1, color=\"r\")\n",
    "        plt.plot(train_sizes, train_scores_mean, 'o-', color=\"b\", label=\"score on train\")\n",
    "        plt.plot(train_sizes, test_scores_mean, 'o-', color=\"r\", label=\"score on cv\")\n",
    "    \n",
    "        plt.legend(loc=\"best\")\n",
    "        \n",
    "        plt.draw()\n",
    "        plt.gca().invert_yaxis()\n",
    "        plt.show()\n",
    "    \n",
    "    midpoint = ((train_scores_mean[-1] + train_scores_std[-1]) + (test_scores_mean[-1] - test_scores_std[-1])) / 2\n",
    "    diff = (train_scores_mean[-1] + train_scores_std[-1]) - (test_scores_mean[-1] - test_scores_std[-1])\n",
    "    return midpoint, diff\n",
    "print(\"end\")"
   ]
  },
  {
   "cell_type": "code",
   "execution_count": 13,
   "metadata": {
    "collapsed": false
   },
   "outputs": [
    {
     "name": "stdout",
     "output_type": "stream",
     "text": [
      "end\n"
     ]
    }
   ],
   "source": [
    "from __future__ import print_function\n",
    "\n",
    "from sklearn import datasets\n",
    "from sklearn.cross_validation import train_test_split\n",
    "from sklearn.grid_search import GridSearchCV\n",
    "from sklearn.metrics import classification_report\n",
    "from sklearn.svm import SVC\n",
    "\n",
    "\n",
    "\n",
    "def findParameters(clf,X,Y):\n",
    "    X_train, X_test, y_train, y_test = train_test_split(\n",
    "        X, Y, test_size=0.5, random_state=0)\n",
    "\n",
    "    # Set the parameters by cross-validation\n",
    "    tuned_parameters = [{'kernel': ['rbf'], 'gamma': [1e-3, 1e-4],\n",
    "                         'C': [1, 10, 100, 1000]},\n",
    "                        {'kernel': ['linear'], 'C': [1, 10, 100, 1000]}]\n",
    "\n",
    "    score = 'r2'\n",
    "\n",
    "    # clf = GridSearchCV(SVC(C=1), tuned_parameters, cv=5)\n",
    "    # clf.fit(X_train, y_train)\n",
    "\n",
    "    # for score in scores:\n",
    "    print(\"# Tuning hyper-parameters for %s\" % score)\n",
    "    print()\n",
    "\n",
    "#     clf = GridSearchCV(SVC(C=1), tuned_parameters, cv=5)\n",
    "    clf.fit(X_train, y_train)\n",
    "\n",
    "    print(\"Best parameters set found on development set:\")\n",
    "    print()\n",
    "    print(clf.best_params_)\n",
    "    print()\n",
    "    print(\"Grid scores on development set:\")\n",
    "    print()\n",
    "    for params, mean_score, scores in clf.grid_scores_:\n",
    "        print(\"%0.3f (+/-%0.03f) for %r\"\n",
    "                  % (mean_score, scores.std() * 2, params))\n",
    "    print()\n",
    "\n",
    "    print(\"Detailed classification report:\")\n",
    "    print()\n",
    "    print(\"The model is trained on the full development set.\")\n",
    "    print(\"The scores are computed on the full evaluation set.\")\n",
    "    print()\n",
    "    y_true, y_pred = y_test, clf.predict(X_test)\n",
    "    print(classification_report(y_true, y_pred))\n",
    "    print()\n",
    "print(\"end\")"
   ]
  },
  {
   "cell_type": "code",
   "execution_count": 14,
   "metadata": {
    "collapsed": false
   },
   "outputs": [
    {
     "name": "stdout",
     "output_type": "stream",
     "text": [
      "(2655L, 37L)\n",
      "end\n"
     ]
    }
   ],
   "source": [
    "tfidfentrys = list()\n",
    "targets = []\n",
    "activity_labels = np.array(activity_labels)\n",
    "\n",
    "for label in labels:\n",
    "    current_activity_index = (activity_labels == label)\n",
    "    # 该类行为的传感器次数矩阵，包含所有的传感器\n",
    "    current_activity_sensor_times = activity_sensor_times[current_activity_index]\n",
    "\n",
    "    # 该类行为出现的总次数\n",
    "    current_activity_times = sum(current_activity_index)\n",
    "\n",
    "    # 该类行为的传感器权重\n",
    "    current_activity_sensor_weight = sensor_weight[current_activity_index]\n",
    "\n",
    "    # 得到当前类中出现的所有传感器下标\n",
    "    index = current_activity_sensor_weight.sum(axis=0)>0\n",
    "\n",
    "    # 获取当前行为触发的所有传感器ID\n",
    "    current_activity_actsensor = bin_sensors[index]\n",
    "    # print current_activity_actsensor\n",
    "\n",
    "    # 该类行为触发的所有传感器次数，只包含触发的传感器\n",
    "    current_activity_actsensor_times = current_activity_sensor_times[:,index]\n",
    "    current_activity_actsensor_weight = current_activity_sensor_weight[:,index]\n",
    "\n",
    "    # 该类每种触发的传感器在所有属于该类的样本中出现的总次数\n",
    "    num = np.zeros((1,len(current_activity_actsensor_times[1])))\n",
    "    total_times_sensors = current_activity_actsensor_times.sum(axis=0)\n",
    "    fenmu = total_times_sensors + 0.01\n",
    "    fenzi = current_activity_actsensor_times +0.01\n",
    "\n",
    "    # 该类行为激发的传感器的熵Etc：传感器t在c类内的分布熵\n",
    "    entry = sum(-(fenzi/fenmu) * np.log(fenzi/fenmu))\n",
    "    \n",
    "    entry_all = np.zeros(len(bin_sensors))\n",
    "    entry_all[index] = entry\n",
    "    # print entry_all\n",
    "    tfidfe = current_activity_sensor_weight * entry_all\n",
    "#     print(\"tfidfe.shape\",tfidfe.shape)\n",
    "    tfidfentrys.extend(tfidfe)\n",
    "#     print(\"tfidfentrys\",np.shape(tfidfentrys))\n",
    "    targets.append([label] * current_activity_times )\n",
    "    \n",
    "# sensor_entry_inner_class = \n",
    "\n",
    "# 还原成最初的shape\n",
    "print(np.shape(tfidfentrys))\n",
    "print(\"end\")"
   ]
  },
  {
   "cell_type": "code",
   "execution_count": 15,
   "metadata": {
    "collapsed": false
   },
   "outputs": [
    {
     "name": "stdout",
     "output_type": "stream",
     "text": [
      "(2655L, 37L)\n",
      "(2655L,)\n",
      "end\n"
     ]
    }
   ],
   "source": [
    "X = tfidfentrys\n",
    "# # Y = [label for label in tgs]\n",
    "# Y = [label for cls in targets\n",
    "#     for label in cls]\n",
    "# # findParameters(X,Y)\n",
    "Y = np.array([])\n",
    "for label in labels:\n",
    "    \n",
    "    current_activity_index = (activity_labels == label)\n",
    "    total_time = sum(current_activity_index)\n",
    "    re_label = np.tile(label,total_time)\n",
    "    Y = np.append(Y,re_label)\n",
    "Y = np.array(Y)\n",
    "print(np.shape(X))\n",
    "print(Y.shape)\n",
    "print(\"end\")"
   ]
  },
  {
   "cell_type": "code",
   "execution_count": 17,
   "metadata": {
    "collapsed": false
   },
   "outputs": [
    {
     "name": "stdout",
     "output_type": "stream",
     "text": [
      "# Tuning hyper-parameters for r2\n",
      "\n",
      "Best parameters set found on development set:\n",
      "\n",
      "{'kernel': 'linear', 'C': 1000}\n",
      "\n",
      "Grid scores on development set:\n",
      "\n",
      "0.647 (+/-0.036) for {'kernel': 'rbf', 'C': 1, 'gamma': 0.001}\n",
      "\n",
      "0.532 (+/-0.022) for {'kernel': 'rbf', 'C': 1, 'gamma': 0.0001}\n",
      "\n",
      "0.692 (+/-0.021) for {'kernel': 'rbf', 'C': 10, 'gamma': 0.001}\n",
      "\n",
      "0.614 (+/-0.045) for {'kernel': 'rbf', 'C': 10, 'gamma': 0.0001}\n",
      "\n",
      "0.765 (+/-0.034) for {'kernel': 'rbf', 'C': 100, 'gamma': 0.001}\n",
      "\n",
      "0.700 (+/-0.025) for {'kernel': 'rbf', 'C': 100, 'gamma': 0.0001}\n",
      "\n",
      "0.825 (+/-0.024) for {'kernel': 'rbf', 'C': 1000, 'gamma': 0.001}\n",
      "\n",
      "0.744 (+/-0.038) for {'kernel': 'rbf', 'C': 1000, 'gamma': 0.0001}\n",
      "\n",
      "0.793 (+/-0.028) for {'kernel': 'linear', 'C': 1}\n",
      "\n",
      "0.845 (+/-0.027) for {'kernel': 'linear', 'C': 10}\n",
      "\n",
      "0.852 (+/-0.018) for {'kernel': 'linear', 'C': 100}\n",
      "\n",
      "0.862 (+/-0.023) for {'kernel': 'linear', 'C': 1000}\n",
      "\n",
      "Detailed classification report:\n",
      "\n",
      "The model is trained on the full development set.\n",
      "The scores are computed on the full evaluation set.\n",
      "\n",
      "             precision    recall  f1-score   support\n",
      "\n",
      "      Bathe       1.00      0.90      0.95        10\n",
      "Bed_Toilet_Transition       1.00      1.00      1.00         6\n",
      "       Cook       0.67      0.57      0.62         7\n",
      "Cook_Breakfast       0.46      0.67      0.55         9\n",
      "Cook_Dinner       0.89      0.89      0.89        18\n",
      " Cook_Lunch       0.33      0.18      0.24        11\n",
      "      Dress       1.00      1.00      1.00        19\n",
      "        Eat       0.33      0.75      0.46         8\n",
      "Eat_Breakfast       1.00      0.71      0.83         7\n",
      " Eat_Dinner       0.25      0.10      0.14        10\n",
      "  Eat_Lunch       0.75      0.75      0.75         8\n",
      " Enter_Home       0.87      1.00      0.93        40\n",
      "Entertain_Guests       0.33      1.00      0.50         1\n",
      "Evening_Meds       1.00      1.00      1.00         1\n",
      "      Groom       0.88      1.00      0.93         7\n",
      " Leave_Home       1.00      0.89      0.94        54\n",
      "Morning_Meds       0.80      0.80      0.80         5\n",
      "Personal_Hygiene       1.00      0.96      0.98        95\n",
      "      Phone       0.89      0.73      0.80        11\n",
      "       Read       1.00      0.93      0.97        15\n",
      "      Relax       0.75      1.00      0.86         3\n",
      "      Sleep       1.00      1.00      1.00        26\n",
      "Sleep_Out_Of_Bed       1.00      1.00      1.00         1\n",
      "Take_Medicine       0.62      0.38      0.48        13\n",
      "     Toilet       0.94      1.00      0.97        32\n",
      "Wash_Breakfast_Dishes       0.29      0.62      0.40         8\n",
      "Wash_Dinner_Dishes       0.50      1.00      0.67         3\n",
      "Wash_Dishes       0.75      0.50      0.60         6\n",
      "Wash_Lunch_Dishes       0.40      0.25      0.31         8\n",
      "   Watch_TV       0.93      1.00      0.96        25\n",
      "       Work       1.00      1.00      1.00         2\n",
      "Work_At_Table       0.86      0.86      0.86         7\n",
      "Work_On_Computer       0.98      0.95      0.96        55\n",
      "\n",
      "avg / total       0.88      0.86      0.86       531\n",
      "\n",
      "\n",
      "end\n"
     ]
    }
   ],
   "source": [
    "X_train, X_test, y_train, y_test = train_test_split(\n",
    "        X, Y, test_size=0.2, random_state=0)\n",
    "\n",
    "    # Set the parameters by cross-validation\n",
    "tuned_parameters = [{'kernel': ['rbf'], 'gamma': [1e-3, 1e-4],\n",
    "                     'C': [1, 10, 100, 1000]},\n",
    "                    {'kernel': ['linear'], 'C': [1, 10, 100, 1000]}]\n",
    "\n",
    "scores =['r2']\n",
    "\n",
    "clf = GridSearchCV(SVC(C=1), tuned_parameters, cv=5)\n",
    "clf.fit(X_train, y_train)\n",
    "\n",
    "for score in scores:\n",
    "    print(\"# Tuning hyper-parameters for %s\" % score)\n",
    "    print()\n",
    "\n",
    "    #     clf = GridSearchCV(SVC(C=1), tuned_parameters, cv=5)\n",
    "    clf.fit(X_train, y_train)\n",
    "\n",
    "    print(\"Best parameters set found on development set:\")\n",
    "    print()\n",
    "    print(clf.best_params_)\n",
    "    print()\n",
    "    print(\"Grid scores on development set:\")\n",
    "    print()\n",
    "    for params, mean_score, scores in clf.grid_scores_:\n",
    "        print(\"%0.3f (+/-%0.03f) for %r\"\n",
    "              % (mean_score, scores.std() * 2, params))\n",
    "        print()\n",
    "\n",
    "print(\"Detailed classification report:\")\n",
    "print()\n",
    "print(\"The model is trained on the full development set.\")\n",
    "print(\"The scores are computed on the full evaluation set.\")\n",
    "print()\n",
    "y_true, y_pred = y_test, clf.predict(X_test)\n",
    "print(classification_report(y_true, y_pred))\n",
    "print()\n",
    "print(\"end\")"
   ]
  },
  {
   "cell_type": "code",
   "execution_count": 18,
   "metadata": {
    "collapsed": false
   },
   "outputs": [
    {
     "name": "stdout",
     "output_type": "stream",
     "text": [
      "begin training\n"
     ]
    },
    {
     "data": {
      "image/png": "[encoded data removed]",
      "text/plain": [
       "<matplotlib.figure.Figure at 0x12035240>"
      ]
     },
     "metadata": {},
     "output_type": "display_data"
    },
    {
     "data": {
      "text/plain": [
       "(0.87317013478613292, 0.12705540918464153)"
      ]
     },
     "execution_count": 18,
     "metadata": {},
     "output_type": "execute_result"
    }
   ],
   "source": [
    "clf = SVC(kernel='linear',C=1000)\n",
    "plot_learning_curve(clf, \"learn curve\", X, Y)"
   ]
  },
  {
   "cell_type": "code",
   "execution_count": null,
   "metadata": {
    "collapsed": true
   },
   "outputs": [],
   "source": []
  }
 ],
 "metadata": {
  "kernelspec": {
   "display_name": "Python 2",
   "language": "python",
   "name": "python2"
  },
  "language_info": {
   "codemirror_mode": {
    "name": "ipython",
    "version": 2
   },
   "file_extension": ".py",
   "mimetype": "text/x-python",
   "name": "python",
   "nbconvert_exporter": "python",
   "pygments_lexer": "ipython2",
   "version": "2.7.11"
  }
 },
 "nbformat": 4,
 "nbformat_minor": 0
}
