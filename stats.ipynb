{
 "cells": [
  {
   "cell_type": "markdown",
   "metadata": {},
   "source": [
    "1. 每种行为发生的次数\n"
   ]
  },
  {
   "cell_type": "code",
   "execution_count": 3,
   "metadata": {
    "collapsed": false,
    "scrolled": true
   },
   "outputs": [
    {
     "name": "stdout",
     "output_type": "stream",
     "text": [
      "['Bathe', 'Bed_Toilet_Transition', 'Cook', 'Cook_Breakfast', 'Cook_Dinner', 'Cook_Lunch', 'Dress', 'Eat', 'Eat_Breakfast', 'Eat_Dinner', 'Eat_Lunch', 'Enter_Home', 'Entertain_Guests', 'Evening_Meds', 'Groom', 'Leave_Home', 'Morning_Meds', 'Personal_Hygiene', 'Phone', 'Read', 'Relax', 'Sleep', 'Sleep_Out_Of_Bed', 'Take_Medicine', 'Toilet', 'Wash_Breakfast_Dishes', 'Wash_Dinner_Dishes', 'Wash_Dishes', 'Wash_Lunch_Dishes', 'Watch_TV', 'Work', 'Work_At_Table', 'Work_On_Computer']\n"
     ]
    }
   ],
   "source": [
    "import utils\n",
    "import numpy as np\n",
    "import pandas as pd\n",
    "from collections import defaultdict\n",
    "from matplotlib import pylab \n",
    "\n",
    "filename = './data/ann.txt'\n",
    "acts = utils.ExtractActivities(filename)\n",
    "\n",
    "activities,binary_sensors,continue_sensors = utils.LoadMeta(utils.metalabel)\n",
    "activities_counts = defaultdict(int)\n",
    "activities_labels = []\n",
    "for act in acts:\n",
    "    activities_counts[act[0]] += 1\n",
    "    activities_labels.append(act[0])\n",
    "activities_num = []\n",
    "\n",
    "# 训练数据集 2655 * N：N为特征个数\n",
    "training_data = np.array([[] for x in range(len(acts))])\n",
    "\n",
    "\n",
    "for act in activities:\n",
    "    activities_num.append(activities_counts[act])\n",
    "print activities\n",
    "\n",
    "\n",
    "\n",
    "pylab.bar(left=range(len(activities)),height=activities_num) \n",
    "pylab.xticks(range(len(activities)),activities, rotation=70)\n",
    "pylab.xlabel(\"activity\")\n",
    "pylab.ylabel(\"numbers\")\n",
    "pylab.autoscale=True\n",
    "pylab.savefig(\"./pictures/num of activities\")\n",
    "pylab.show()"
   ]
  },
  {
   "cell_type": "markdown",
   "metadata": {},
   "source": [
    "次数：\n",
    "[44, 49, 33, 48, 79, 62, 119, 36, 52, 42, 49, 147, 16, 14, 62, 234, 32, 462, 55, 82, 19, 106, 7, 60, 173, 43, 30, 30, 39, 129, 7, 37, 258]\n",
    "\n",
    "标签：\n",
    "['Bathe', 'Bed_Toilet_Transition', 'Cook', 'Cook_Breakfast', 'Cook_Dinner', 'Cook_Lunch', 'Dress', 'Eat', 'Eat_Breakfast', 'Eat_Dinner', 'Eat_Lunch', 'Enter_Home', 'Entertain_Guests', 'Evening_Meds', 'Groom', 'Leave_Home', 'Morning_Meds', 'Personal_Hygiene', 'Phone', 'Read', 'Relax', 'Sleep', 'Sleep_Out_Of_Bed', 'Take_Medicine', 'Toilet', 'Wash_Breakfast_Dishes', 'Wash_Dinner_Dishes', 'Wash_Dishes', 'Wash_Lunch_Dishes', 'Watch_TV', 'Work', 'Work_At_Table', 'Work_On_Computer']\n",
    "\n",
    "柱状图：\n",
    "![](./pictures/num of activities.png)\n"
   ]
  },
  {
   "cell_type": "markdown",
   "metadata": {},
   "source": [
    "2.  每种行为触发的传感器数量\n",
    "\n",
    "    首先创建一个dataframe，index为行为，col为传感器\n",
    "    得到每个观测序列的前38个特征"
   ]
  },
  {
   "cell_type": "code",
   "execution_count": 11,
   "metadata": {
    "collapsed": false,
    "scrolled": false
   },
   "outputs": [
    {
     "name": "stdout",
     "output_type": "stream",
     "text": [
      "['Sleep', ['2011-06-15', '02:13:20.812509', 'M007', 'ON'], ['2011-06-15', '02:13:21.919635', 'M007', 'OFF'], ['2011-06-15', '05:40:14.111389', 'M021', 'ON']]\n",
      "(2655L,)\n",
      "end\n"
     ]
    }
   ],
   "source": [
    "import numpy as np\n",
    "from utils import ExtractActivities\n",
    "from StringIO import StringIO\n",
    "\n",
    "filename = \"./data/ann.txt\"\n",
    "activities = ExtractActivities(filename)\n",
    "file_bin_sensors = \"./data/bin_sensors.txt\"\n",
    "bin_sensors = np.loadtxt(file_bin_sensors,dtype=np.str)\n",
    "con_sensors = np.loadtxt(\"./data/continue_sensors.txt\",dtype=np.str)\n",
    "labels = np.loadtxt(\"./data/activities.txt\",dtype=np.str)\n",
    "\n",
    "def onlybin(activity):\n",
    "    bin_activity = [activity[0]]\n",
    "    for i in range(1,len(activity)):\n",
    "        if len(activity[i]) == 4 and activity[i][2] in bin_sensors:\n",
    "            bin_activity.append(activity[i])\n",
    "    return bin_activity\n",
    "\n",
    "\n",
    "activities = ExtractActivities(filename)\n",
    "# print onlybin(activities[0])\n",
    "bin_activities = []\n",
    "# for activity in activities[0:20]:\n",
    "for activity in activities:\n",
    "    bin_activities.append(onlybin(activity))\n",
    "print bin_activities[0]\n",
    "bin_activities = np.array(bin_activities)\n",
    "activity_labels = [activity[0] for activity in bin_activities]\n",
    "activity_labels = np.array(activity_labels)\n",
    "print bin_activities.shape\n",
    "print(\"end\")"
   ]
  },
  {
   "cell_type": "code",
   "execution_count": 46,
   "metadata": {
    "collapsed": false
   },
   "outputs": [
    {
     "name": "stdout",
     "output_type": "stream",
     "text": [
      "['M001' 'M003' 'M009' 'M010' 'M014' 'M016' 'M020' 'MA022' 'MA023' 'MA024']\n",
      "[[   0.    0.    0.    0.    0.   76.    0.   12.    1.    0.]\n",
      " [   0.    0.    0.    0.    0.  126.    0.   10.    0.    0.]\n",
      " [   0.    0.    0.    0.    0.   36.    0.    9.    0.    0.]\n",
      " [   0.    2.    0.    0.    0.   66.    0.   10.    4.    0.]\n",
      " [   0.    0.    0.    0.    0.   28.    0.    1.    0.    0.]\n",
      " [   0.    0.    0.    0.    6.   18.    0.    9.    6.    0.]\n",
      " [   0.    0.    0.    0.    0.   42.    0.    4.    0.    0.]\n",
      " [   0.    0.    0.    0.    0.   86.    0.   11.    0.    0.]\n",
      " [   0.    0.    0.    0.    0.   45.    0.   23.    0.    0.]\n",
      " [   0.    0.    0.    0.    6.   66.    0.   13.    4.    0.]\n",
      " [   0.    0.    0.    0.    4.   40.    0.   14.    4.    0.]\n",
      " [   0.    0.    0.    0.    0.   70.    0.    8.    0.    0.]\n",
      " [   0.    0.    0.    0.    0.   34.    0.    6.    0.    0.]\n",
      " [   0.    0.    0.    0.    0.  162.    4.   18.    0.    0.]\n",
      " [   2.    0.   62.    0.    0.    0.    0.    0.    0.   50.]\n",
      " [   7.    0.   76.    0.    0.    0.    0.    0.    0.   96.]\n",
      " [   0.    0.    0.    0.    0.   44.    0.   10.    0.    0.]\n",
      " [   0.    0.    0.    0.    2.   74.    0.    6.    2.    0.]\n",
      " [   0.    0.    0.    0.    1.   90.    0.    6.    1.    0.]\n",
      " [   0.    0.    0.    0.   12.   56.    0.   12.   11.    0.]\n",
      " [   0.    0.    0.    0.    0.   48.    0.   12.    0.    0.]\n",
      " [   0.    0.    0.    0.    0.   36.    0.    4.    0.    0.]\n",
      " [   0.    0.    0.    0.    0.   54.    0.   10.    0.    0.]\n",
      " [   0.    0.    0.    0.    0.   24.    0.    1.    0.    0.]\n",
      " [   0.    0.    0.    0.    0.   50.    0.   10.    0.    0.]\n",
      " [   0.    0.    0.    1.    0.   18.    0.    4.    0.    0.]\n",
      " [   0.    0.    0.    0.    0.   24.    0.    4.    0.    0.]\n",
      " [   0.    0.    0.    0.    0.   36.    0.    4.    0.    0.]\n",
      " [   0.    0.    0.    0.    0.   48.    0.    6.    0.    0.]\n",
      " [   0.    0.    0.    0.    0.   20.    0.    0.    0.    0.]\n",
      " [   0.    0.    0.    0.    0.   74.    0.    4.    0.    0.]\n",
      " [   0.    0.    0.    0.    0.   30.    0.    6.    0.    0.]\n",
      " [   0.    0.    0.    0.    0.   72.    0.   11.    0.    0.]\n",
      " [   0.    0.    0.    0.    0.   14.    0.    4.    0.    0.]\n",
      " [   0.    0.    0.    0.    0.   22.    0.    6.    0.    0.]\n",
      " [   0.    0.    0.    0.    0.   16.    0.    3.    0.    0.]]\n"
     ]
    }
   ],
   "source": [
    "import pandas as pd\n",
    "# print bin_sensors\n",
    "df_activity_sensor = pd.DataFrame(index=np.arange(bin_activities.shape[0]),columns=bin_sensors)\n",
    "activity_sensor_times = np.array([[0 for x in range(len(bin_sensors))] \n",
    "                                  for i in range(len(bin_activities))],dtype=np.float16)\n",
    "\n",
    "for i in range(0,len(bin_activities)):\n",
    "    current_act = bin_activities[i]\n",
    "    for j in range(1,len(current_act)):\n",
    "        col_index = list(bin_sensors).index(current_act[j][2])\n",
    "        activity_sensor_times[i,col_index] += 1\n",
    "# total_times = activity_sensor_times.sum(axis=1)\n",
    "# tf = activity_sensor_times / total_times[:,np.newaxis]\n",
    "index = (activity_labels==\"Eat\")\n",
    "# print index\n",
    "# print(activity_sensor_times[index][0])\n",
    "# np.savetxt('./data/sleep_sensor_times.txt',activity_sensor_times[index])\n",
    "# print(bin_sensors)\n",
    "current_activity_sensor = activity_sensor_times[index]\n",
    "                                  \n",
    "index_actsensor = (current_activity_sensor.sum(axis=0) > 0)\n",
    "# print bin_sensors\n",
    "# print index_actsensor\n",
    "print bin_sensors[index_actsensor]\n",
    "print current_activity_sensor[:,index_actsensor]"
   ]
  },
  {
   "cell_type": "code",
   "execution_count": 48,
   "metadata": {
    "collapsed": false
   },
   "outputs": [
    {
     "name": "stdout",
     "output_type": "stream",
     "text": [
      "['M002' 'M008' 'M010' 'M014' 'M015' 'M016' 'M020' 'MA022' 'MA023']\n",
      "[[   0.    2.    0.   24.    0.    0.    0.    3.    4.]\n",
      " [   0.    1.    0.    8.    0.    0.    0.    2.    2.]\n",
      " [   0.    1.    0.   12.    0.    0.    0.    3.    6.]\n",
      " [   0.    2.    0.   20.    0.    0.    0.    4.    3.]\n",
      " [   0.    6.    0.   24.    0.    0.    0.    4.    6.]\n",
      " [   0.    0.    0.   12.    0.    0.    0.    2.    4.]\n",
      " [   0.    0.    0.   20.    0.    0.    0.    1.    2.]\n",
      " [   0.    1.    0.   12.    0.    0.    0.    1.    0.]\n",
      " [   0.    1.    0.   18.    0.    0.    0.    2.    0.]\n",
      " [   0.    1.    0.   22.    0.    0.    0.    2.    2.]\n",
      " [   0.    2.    0.   26.    0.    0.    0.    2.    3.]\n",
      " [   0.    2.    0.   32.    0.    0.    0.    7.    7.]\n",
      " [   0.    1.    0.   22.    0.    0.    0.    0.    6.]\n",
      " [   0.    5.    0.   22.    0.    0.    0.    0.    2.]\n",
      " [   0.    0.    0.    0.    0.   20.    0.    0.    0.]\n",
      " [   0.    0.    0.    0.    0.    8.    0.    3.    0.]\n",
      " [   0.    0.    0.    0.    0.   30.    0.    3.    0.]\n",
      " [  13.    0.    0.    0.    0.    0.    0.    4.    0.]\n",
      " [   0.    0.    0.    0.    0.   38.    0.    4.    0.]\n",
      " [   0.    0.    0.    0.    0.  174.    0.   38.    0.]\n",
      " [   0.    0.    0.    0.    0.   36.    0.   10.    0.]\n",
      " [   0.    0.    0.    0.    0.   10.    0.    1.    0.]\n",
      " [   0.    0.    0.    0.    0.   32.    0.    3.    0.]\n",
      " [   0.    0.    0.    0.    0.   54.    0.    5.    0.]\n",
      " [   0.    0.    0.    0.    0.   96.    0.   13.    0.]\n",
      " [   0.    0.    0.    0.    0.  132.    2.   36.    0.]\n",
      " [   0.    0.    0.    0.    0.   28.    0.    2.    0.]\n",
      " [   0.    0.    0.    0.    0.   36.    0.    4.    0.]\n",
      " [   0.    0.    0.    0.    0.   16.    0.    2.    0.]\n",
      " [   8.    0.    0.    0.    0.    4.    0.   11.    0.]\n",
      " [   0.    0.    1.    0.    0.   20.    0.   16.    0.]\n",
      " [   0.    0.    0.    0.    0.    2.    0.    2.    0.]\n",
      " [   4.    0.    0.    0.    0.   38.    0.    9.    0.]\n",
      " [   0.    0.    0.    0.    0.   18.    0.    4.    0.]\n",
      " [   0.    0.    0.    0.    0.   14.    0.    0.    0.]\n",
      " [   0.    0.    0.    0.    0.   16.    0.    1.    0.]\n",
      " [   0.    0.    0.    0.    8.   16.    2.   20.    0.]\n",
      " [   0.    0.    0.    0.    0.   14.    0.    2.    0.]\n",
      " [   0.    0.    0.    0.    0.    4.    0.    3.    0.]\n",
      " [  12.    0.    0.    0.    0.    0.    0.    6.    0.]\n",
      " [   0.    0.    0.    0.    0.   12.    0.    2.    0.]\n",
      " [   0.    0.    0.    0.    0.   72.    0.    4.    0.]\n",
      " [   0.    0.    0.    0.    0.   16.    0.    3.    0.]\n",
      " [   0.    0.    0.    0.    0.   24.    0.    4.    0.]\n",
      " [   0.    0.    0.    0.    0.   26.    0.    8.    0.]\n",
      " [   0.    0.    0.    0.    0.    6.    0.    6.    0.]\n",
      " [   0.    0.    0.    0.    0.   12.    0.    2.    0.]\n",
      " [   0.    0.    0.    0.    0.   30.    0.    4.    0.]\n",
      " [   0.    0.    0.    0.    0.   14.    0.    2.    0.]\n",
      " [   0.    0.    0.    0.    0.   22.    0.    0.    0.]\n",
      " [   0.    0.    0.    0.    0.   40.    0.    0.    0.]\n",
      " [   0.    0.    0.    0.    0.    4.    0.    3.    0.]\n",
      " [   0.    0.    0.    0.    0.   42.    0.    7.    0.]\n",
      " [   0.    0.    0.    0.    0.   50.    0.   12.    0.]\n",
      " [   0.    0.    0.    0.    0.   42.    0.   26.    0.]]\n"
     ]
    }
   ],
   "source": [
    "index = (activity_labels==\"Phone\")\n",
    "# print index\n",
    "# print(activity_sensor_times[index][0])\n",
    "# np.savetxt('./data/sleep_sensor_times.txt',activity_sensor_times[index])\n",
    "# print(bin_sensors)\n",
    "current_activity_sensor = activity_sensor_times[index]\n",
    "                                  \n",
    "index_actsensor = (current_activity_sensor.sum(axis=0) > 0)\n",
    "# print bin_sensors\n",
    "# print index_actsensor\n",
    "print bin_sensors[index_actsensor]\n",
    "print current_activity_sensor[:,index_actsensor]"
   ]
  },
  {
   "cell_type": "code",
   "execution_count": null,
   "metadata": {
    "collapsed": true
   },
   "outputs": [],
   "source": []
  }
 ],
 "metadata": {
  "kernelspec": {
   "display_name": "Python 2",
   "language": "python",
   "name": "python2"
  },
  "language_info": {
   "codemirror_mode": {
    "name": "ipython",
    "version": 2
   },
   "file_extension": ".py",
   "mimetype": "text/x-python",
   "name": "python",
   "nbconvert_exporter": "python",
   "pygments_lexer": "ipython2",
   "version": "2.7.11"
  }
 },
 "nbformat": 4,
 "nbformat_minor": 0
}
