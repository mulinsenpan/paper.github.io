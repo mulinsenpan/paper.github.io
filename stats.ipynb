{
 "cells": [
  {
   "cell_type": "markdown",
   "metadata": {},
   "source": [
    "1. 每种行为发生的次数\n"
   ]
  },
  {
   "cell_type": "code",
   "execution_count": 3,
   "metadata": {
    "collapsed": false,
    "scrolled": true
   },
   "outputs": [
    {
     "name": "stdout",
     "output_type": "stream",
     "text": [
      "['Bathe', 'Bed_Toilet_Transition', 'Cook', 'Cook_Breakfast', 'Cook_Dinner', 'Cook_Lunch', 'Dress', 'Eat', 'Eat_Breakfast', 'Eat_Dinner', 'Eat_Lunch', 'Enter_Home', 'Entertain_Guests', 'Evening_Meds', 'Groom', 'Leave_Home', 'Morning_Meds', 'Personal_Hygiene', 'Phone', 'Read', 'Relax', 'Sleep', 'Sleep_Out_Of_Bed', 'Take_Medicine', 'Toilet', 'Wash_Breakfast_Dishes', 'Wash_Dinner_Dishes', 'Wash_Dishes', 'Wash_Lunch_Dishes', 'Watch_TV', 'Work', 'Work_At_Table', 'Work_On_Computer']\n"
     ]
    }
   ],
   "source": [
    "import utils\n",
    "import numpy as np\n",
    "import pandas as pd\n",
    "from collections import defaultdict\n",
    "from matplotlib import pylab \n",
    "\n",
    "filename = './data/ann.txt'\n",
    "acts = utils.ExtractActivities(filename)\n",
    "\n",
    "activities,binary_sensors,continue_sensors = utils.LoadMeta(utils.metalabel)\n",
    "activities_counts = defaultdict(int)\n",
    "activities_labels = []\n",
    "for act in acts:\n",
    "    activities_counts[act[0]] += 1\n",
    "    activities_labels.append(act[0])\n",
    "activities_num = []\n",
    "\n",
    "# 训练数据集 2655 * N：N为特征个数\n",
    "training_data = np.array([[] for x in range(len(acts))])\n",
    "\n",
    "\n",
    "for act in activities:\n",
    "    activities_num.append(activities_counts[act])\n",
    "print activities\n",
    "\n",
    "\n",
    "\n",
    "pylab.bar(left=range(len(activities)),height=activities_num) \n",
    "pylab.xticks(range(len(activities)),activities, rotation=70)\n",
    "pylab.xlabel(\"activity\")\n",
    "pylab.ylabel(\"numbers\")\n",
    "pylab.autoscale=True\n",
    "pylab.savefig(\"./pictures/num of activities\")\n",
    "pylab.show()"
   ]
  },
  {
   "cell_type": "markdown",
   "metadata": {},
   "source": [
    "次数：\n",
    "[44, 49, 33, 48, 79, 62, 119, 36, 52, 42, 49, 147, 16, 14, 62, 234, 32, 462, 55, 82, 19, 106, 7, 60, 173, 43, 30, 30, 39, 129, 7, 37, 258]\n",
    "\n",
    "标签：\n",
    "['Bathe', 'Bed_Toilet_Transition', 'Cook', 'Cook_Breakfast', 'Cook_Dinner', 'Cook_Lunch', 'Dress', 'Eat', 'Eat_Breakfast', 'Eat_Dinner', 'Eat_Lunch', 'Enter_Home', 'Entertain_Guests', 'Evening_Meds', 'Groom', 'Leave_Home', 'Morning_Meds', 'Personal_Hygiene', 'Phone', 'Read', 'Relax', 'Sleep', 'Sleep_Out_Of_Bed', 'Take_Medicine', 'Toilet', 'Wash_Breakfast_Dishes', 'Wash_Dinner_Dishes', 'Wash_Dishes', 'Wash_Lunch_Dishes', 'Watch_TV', 'Work', 'Work_At_Table', 'Work_On_Computer']\n",
    "\n",
    "柱状图：\n",
    "![](./pictures/num of activities.png)\n"
   ]
  },
  {
   "cell_type": "markdown",
   "metadata": {},
   "source": [
    "2.  每种行为触发的传感器数量\n",
    "\n",
    "    首先创建一个dataframe，index为行为，col为传感器\n",
    "    得到每个观测序列的前38个特征"
   ]
  },
  {
   "cell_type": "code",
   "execution_count": null,
   "metadata": {
    "collapsed": false,
    "scrolled": false
   },
   "outputs": [],
   "source": [
    "import numpy as np\n",
    "from sklearn import svm\n",
    "data_binary_matrix = np.zeros((len(acts), len(binary_sensors)),dtype= int)\n",
    "data_continue_matrix = [[[] for x in range(len(continue_sensors))] for y in range(len(acts))]\n",
    "\n",
    "\n",
    "for i in range(len(acts)):\n",
    "    for item in acts[i]:\n",
    "        if item:\n",
    "#             每种二值传感器被激活的次数\n",
    "            if item[-2] in binary_sensors  and item[-1] in (\"ON\",\"OPEN\"):\n",
    "                col = binary_sensors.index(item[-2])\n",
    "                data_binary_matrix[i][col] += 1\n",
    "            elif item[-2] in continue_sensors:\n",
    "                col = continue_sensors.index(item[-2])\n",
    "                data_continue_matrix[i][col].append(item[-1])\n",
    "\n",
    "df_binary_act = pd.DataFrame(data_binary_matrix,columns=binary_sensors,index=range(len(acts)))\n",
    "df_binary_act.insert(0,'label',pd.DataFrame(activities_labels))    \n",
    "\n",
    "df_continue_act = pd.DataFrame(data_continue_matrix,columns=continue_sensors,index=range(len(acts)))\n",
    "df_continue_act.insert(0,'label',pd.DataFrame(activities_labels))  \n",
    "\n",
    "\n",
    "df_Cook = df_binary_act[df_binary_act.label == \"Cook\"][binary_sensors]\n",
    "df_Cook_D002 = df_Cook.iloc[:,2]\n",
    "counts_dic = defaultdict(int)\n",
    "for i in df_Cook_D002:\n",
    "    counts_dic[i] += 1\n",
    "     \n",
    "\n",
    "    \n",
    "for act_index in range(len(activities)):\n",
    "    df_act = df_binary_act[df_binary_act.label == activities[act_index]][binary_sensors]  \n",
    "    for sensor_index in range(len(binary_sensors)):\n",
    "        counts_dic = defaultdict(int)\n",
    "        df_act_sensor = df_act.iloc[:,sensor_index]\n",
    "        \n",
    "        for i in df_act_sensor:\n",
    "            counts_dic[i] += 1\n",
    "        pylab.subplot(4,10,sensor_index+1)\n",
    "        pylab.bar(left=sorted(counts_dic.keys()),height= [counts_dic[key] for key in sorted(counts_dic.keys())],align = 'center',\n",
    "                 width=0.8)\n",
    "        pylab.xlabel(activities[act_index]+\" \"+binary_sensors[sensor_index])\n",
    "        pylab.ylabel(\"number\")\n",
    "        \n",
    "        \n",
    "        pylab.xticks(sorted(counts_dic.keys()),[counts_dic[key] for key in sorted(counts_dic.keys())],rotation=10)\n",
    "    pylab.autoscale=True\n",
    "    pylab.show()\n",
    "\n",
    "\n",
    "\n",
    "\n",
    "\n",
    " \n",
    "\n",
    "    \n",
    "\n",
    "\n",
    "\n",
    "        \n"
   ]
  },
  {
   "cell_type": "code",
   "execution_count": 71,
   "metadata": {
    "collapsed": false
   },
   "outputs": [],
   "source": [
    "\n",
    "# #  前len(binary_sensors)个特征:出现次数\n",
    "# training_data = df_binary_act\n",
    "# # print training_data\n",
    "\n",
    "# #  第二、三类特征：第一次、最后一次触发的传感器\n",
    "# first_last_sensor = []\n",
    "# for act in acts:\n",
    "#     index = 1\n",
    "#     fea = []\n",
    "#     while index < len(act):\n",
    "#         if act[index][-2] in binary_sensors:\n",
    "#             fea.append(act[index])\n",
    "#             break\n",
    "#         index += 1\n",
    "#     index = len(act)\n",
    "            \n",
    "#     print fea\n",
    "#     while index > 0:\n",
    "#         if act[index-1][2] in binary_sensors:\n",
    "#             fea.append(act[index])\n",
    "#             break\n",
    "#         index -= 1\n",
    "        \n",
    "#     print fea\n",
    "            "
   ]
  }
 ],
 "metadata": {
  "kernelspec": {
   "display_name": "Python 2",
   "language": "python",
   "name": "python2"
  },
  "language_info": {
   "codemirror_mode": {
    "name": "ipython",
    "version": 2
   },
   "file_extension": ".py",
   "mimetype": "text/x-python",
   "name": "python",
   "nbconvert_exporter": "python",
   "pygments_lexer": "ipython2",
   "version": "2.7.11"
  }
 },
 "nbformat": 4,
 "nbformat_minor": 0
}
