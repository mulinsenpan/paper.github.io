{
 "cells": [
  {
   "cell_type": "markdown",
   "metadata": {},
   "source": [
    "## 加载数据"
   ]
  },
  {
   "cell_type": "code",
   "execution_count": 8,
   "metadata": {
    "collapsed": true
   },
   "outputs": [],
   "source": [
    "import numpy as np\n",
    "from utils import ExtractActivities\n",
    "from StringIO import StringIO\n",
    "\n",
    "filename = \"./data/ann.txt\"\n",
    "activities = ExtractActivities(filename)\n",
    "file_bin_sensors = \"./data/bin_sensors.txt\"\n",
    "bin_sensors = np.loadtxt(file_bin_sensors,dtype=np.str)\n",
    "con_sensors = np.loadtxt(\"./data/continue_sensors.txt\",dtype=np.str)\n",
    "labels = np.loadtxt(\"./data/activities.txt\",dtype=np.str)"
   ]
  },
  {
   "cell_type": "markdown",
   "metadata": {},
   "source": [
    "#### 清理数据\n",
    "只剩下二值传感器"
   ]
  },
  {
   "cell_type": "code",
   "execution_count": 9,
   "metadata": {
    "collapsed": false
   },
   "outputs": [
    {
     "name": "stdout",
     "output_type": "stream",
     "text": [
      "开始清理数据，只保留二值传感器...\n",
      "['Sleep', ['2011-06-15', '02:13:20.812509', 'M007', 'ON'], ['2011-06-15', '02:13:21.919635', 'M007', 'OFF'], ['2011-06-15', '05:40:14.111389', 'M021', 'ON']]\n",
      "(2655L,)\n",
      "清理结束...\n"
     ]
    }
   ],
   "source": [
    "def onlybin(activity):\n",
    "    bin_activity = [activity[0]]\n",
    "    for i in range(1,len(activity)):\n",
    "        if len(activity[i]) == 4 and activity[i][2] in bin_sensors:\n",
    "            bin_activity.append(activity[i])\n",
    "    return bin_activity\n",
    "\n",
    "print(\"开始清理数据，只保留二值传感器...\")\n",
    "activities = ExtractActivities(filename)\n",
    "# print onlybin(activities[0])\n",
    "bin_activities = []\n",
    "# for activity in activities[0:20]:\n",
    "for activity in activities:\n",
    "    bin_activities.append(onlybin(activity))\n",
    "print bin_activities[0]\n",
    "bin_activities = np.array(bin_activities)\n",
    "activity_labels = [activity[0] for activity in bin_activities]\n",
    "print bin_activities.shape\n",
    "print(\"清理结束...\")"
   ]
  },
  {
   "cell_type": "markdown",
   "metadata": {},
   "source": [
    "计算TF"
   ]
  },
  {
   "cell_type": "code",
   "execution_count": 10,
   "metadata": {
    "collapsed": false
   },
   "outputs": [
    {
     "name": "stdout",
     "output_type": "stream",
     "text": [
      "(2655L, 37L)\n",
      "end\n"
     ]
    }
   ],
   "source": [
    "import pandas as pd\n",
    "# print bin_sensors\n",
    "df_activity_sensor = pd.DataFrame(index=np.arange(bin_activities.shape[0]),columns=bin_sensors)\n",
    "activity_sensor_times = np.array([[0 for x in range(len(bin_sensors))] \n",
    "                                  for i in range(len(bin_activities))],dtype=np.float16)\n",
    "\n",
    "for i in range(0,len(bin_activities)):\n",
    "    current_act = bin_activities[i]\n",
    "    for j in range(1,len(current_act)):\n",
    "        col_index = list(bin_sensors).index(current_act[j][2])\n",
    "        activity_sensor_times[i,col_index] += 1\n",
    "total_times = activity_sensor_times.sum(axis=1)\n",
    "tf = activity_sensor_times / total_times[:,np.newaxis]\n",
    "print tf.shape\n",
    "print(\"end\")"
   ]
  },
  {
   "cell_type": "markdown",
   "metadata": {},
   "source": [
    "计算IDF"
   ]
  },
  {
   "cell_type": "code",
   "execution_count": 11,
   "metadata": {
    "collapsed": false
   },
   "outputs": [
    {
     "name": "stdout",
     "output_type": "stream",
     "text": [
      "(2655L,)\n",
      "end\n"
     ]
    }
   ],
   "source": [
    "ac_one = np.zeros((len(bin_activities),len(bin_sensors)))\n",
    "for i in range(ac_one.shape[0]):\n",
    "    for j in range(ac_one.shape[1]):\n",
    "        if activity_sensor_times[i,j] > 0:\n",
    "            ac_one[i,j] = 1\n",
    "is_has_sensor = ac_one.sum(axis=1)  \n",
    "# 文档频率\n",
    "df = float(ac_one.shape[0])/is_has_sensor\n",
    "idf = np.log((df+0.01))\n",
    "print idf.shape\n",
    "\n",
    "print(\"end\")"
   ]
  },
  {
   "cell_type": "markdown",
   "metadata": {},
   "source": [
    "### 计算tfidf"
   ]
  },
  {
   "cell_type": "code",
   "execution_count": 12,
   "metadata": {
    "collapsed": false
   },
   "outputs": [
    {
     "name": "stdout",
     "output_type": "stream",
     "text": [
      "end\n"
     ]
    }
   ],
   "source": [
    "sensor_weight = tf * idf[:,np.newaxis]\n",
    "\n",
    "df_sensor_weights = pd.DataFrame(sensor_weight,columns=bin_sensors,\n",
    "                                 index=range(len(bin_activities)))\n",
    "df_sensor_weights.insert(0,'label',activity_labels)\n",
    "df_sensor_weights[df_sensor_weights['label']=='Sleep'].describe()\n",
    "print(\"end\")"
   ]
  },
  {
   "cell_type": "markdown",
   "metadata": {},
   "source": [
    "### 加入Entry"
   ]
  },
  {
   "cell_type": "code",
   "execution_count": 13,
   "metadata": {
    "collapsed": false
   },
   "outputs": [
    {
     "name": "stdout",
     "output_type": "stream",
     "text": [
      "(2655L, 37L)\n",
      "end\n"
     ]
    }
   ],
   "source": [
    "tfidfentrys = list()\n",
    "targets = []\n",
    "activity_labels = np.array(activity_labels)\n",
    "\n",
    "for label in labels:\n",
    "    current_activity_index = (activity_labels == label)\n",
    "    # 该类行为的传感器次数矩阵，包含所有的传感器\n",
    "    current_activity_sensor_times = activity_sensor_times[current_activity_index]\n",
    "\n",
    "    # 该类行为出现的总次数\n",
    "    current_activity_times = sum(current_activity_index)\n",
    "\n",
    "    # 该类行为的传感器权重\n",
    "    current_activity_sensor_weight = sensor_weight[current_activity_index]\n",
    "\n",
    "    # 得到当前类中出现的所有传感器下标\n",
    "    index = current_activity_sensor_weight.sum(axis=0)>0\n",
    "\n",
    "    # 获取当前行为触发的所有传感器ID\n",
    "    current_activity_actsensor = bin_sensors[index]\n",
    "    # print current_activity_actsensor\n",
    "\n",
    "    # 该类行为触发的所有传感器次数，只包含触发的传感器\n",
    "    current_activity_actsensor_times = current_activity_sensor_times[:,index]\n",
    "    current_activity_actsensor_weight = current_activity_sensor_weight[:,index]\n",
    "\n",
    "    # 该类每种触发的传感器在所有属于该类的样本中出现的总次数\n",
    "    num = np.zeros((1,len(current_activity_actsensor_times[1])))\n",
    "    total_times_sensors = current_activity_actsensor_times.sum(axis=0)\n",
    "    fenmu = total_times_sensors + 0.01\n",
    "    fenzi = current_activity_actsensor_times +0.01\n",
    "\n",
    "    # 该类行为激发的传感器的熵Etc：传感器t在c类内的分布熵\n",
    "    entry = sum(-(fenzi/fenmu) * np.log(fenzi/fenmu))\n",
    "    \n",
    "    entry_all = np.zeros(len(bin_sensors))\n",
    "    entry_all[index] = entry\n",
    "    # print entry_all\n",
    "    tfidfe = current_activity_sensor_weight * entry_all\n",
    "#     print(\"tfidfe.shape\",tfidfe.shape)\n",
    "    tfidfentrys.extend(tfidfe)\n",
    "#     print(\"tfidfentrys\",np.shape(tfidfentrys))\n",
    "    targets.append([label] * current_activity_times )\n",
    "    \n",
    "# sensor_entry_inner_class = \n",
    "\n",
    "# 还原成最初的shape\n",
    "print(np.shape(tfidfentrys))\n",
    "print(\"end\")"
   ]
  },
  {
   "cell_type": "markdown",
   "metadata": {},
   "source": [
    "找到对每类行为最重要的若干个传感器"
   ]
  },
  {
   "cell_type": "code",
   "execution_count": 35,
   "metadata": {
    "collapsed": false
   },
   "outputs": [
    {
     "name": "stdout",
     "output_type": "stream",
     "text": [
      "(44L, 37L)\n",
      "(49L, 37L)\n",
      "(33L, 37L)\n",
      "(48L, 37L)\n",
      "(79L, 37L)\n",
      "(62L, 37L)\n",
      "(119L, 37L)\n",
      "(36L, 37L)\n",
      "(52L, 37L)\n",
      "(42L, 37L)\n",
      "(49L, 37L)\n",
      "(147L, 37L)\n",
      "(16L, 37L)\n",
      "(14L, 37L)\n",
      "(62L, 37L)\n",
      "(234L, 37L)\n",
      "(32L, 37L)\n",
      "(462L, 37L)\n",
      "(55L, 37L)\n",
      "(82L, 37L)\n",
      "(19L, 37L)\n",
      "(106L, 37L)\n",
      "(7L, 37L)\n",
      "(60L, 37L)\n",
      "(173L, 37L)\n",
      "(43L, 37L)\n",
      "(30L, 37L)\n",
      "(30L, 37L)\n",
      "(39L, 37L)\n",
      "(129L, 37L)\n",
      "(7L, 37L)\n",
      "(37L, 37L)\n",
      "(258L, 37L)\n"
     ]
    }
   ],
   "source": [
    "tfidfentrys = np.array(tfidfentrys)\n",
    "for label in labels:\n",
    "    current_activity_index = (activity_labels == label)\n",
    "    current_activity_tfidfe = tfidfentrys[current_activity_index]\n",
    "    print current_activity_tfidfe.shape\n",
    "    total_tfidfe_sensors = current_activity_tfidfe.sum(axis=0) > 0\n",
    "#     sensor_index = (total_tfidfe_sensors)\n",
    "#     print bin_sensors[total_tfidfe_sensors]"
   ]
  },
  {
   "cell_type": "markdown",
   "metadata": {},
   "source": [
    "### 加入IG"
   ]
  },
  {
   "cell_type": "code",
   "execution_count": null,
   "metadata": {
    "collapsed": true
   },
   "outputs": [],
   "source": []
  },
  {
   "cell_type": "code",
   "execution_count": null,
   "metadata": {
    "collapsed": true
   },
   "outputs": [],
   "source": []
  }
 ],
 "metadata": {
  "kernelspec": {
   "display_name": "Python 2",
   "language": "python",
   "name": "python2"
  },
  "language_info": {
   "codemirror_mode": {
    "name": "ipython",
    "version": 2
   },
   "file_extension": ".py",
   "mimetype": "text/x-python",
   "name": "python",
   "nbconvert_exporter": "python",
   "pygments_lexer": "ipython2",
   "version": "2.7.11"
  }
 },
 "nbformat": 4,
 "nbformat_minor": 0
}
